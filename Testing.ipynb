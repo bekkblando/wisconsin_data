{
 "cells": [
  {
   "cell_type": "code",
   "execution_count": 227,
   "metadata": {},
   "outputs": [],
   "source": [
    "import pandas as pd\n",
    "from sklearn import linear_model, neighbors, svm, tree, gaussian_process\n",
    "import shap\n",
    "import numpy as np\n",
    "from sklearn.cross_validation import train_test_split\n",
    "import seaborn as sns\n",
    "from sklearn.feature_selection import RFE\n",
    "import time\n",
    "from sklearn import model_selection\n",
    "from sklearn.model_selection import cross_val_score\n",
    "import matplotlib.pyplot as plt"
   ]
  },
  {
   "cell_type": "code",
   "execution_count": 291,
   "metadata": {},
   "outputs": [],
   "source": [
    "# TODO This is not an ideal form of model selection and is done for exploratory/learning purposes\n",
    "# TODO This can really be automated if the specific implementations of the models are this basic\n",
    "accuracy = []"
   ]
  },
  {
   "cell_type": "code",
   "execution_count": 292,
   "metadata": {},
   "outputs": [],
   "source": [
    "def print_accuracy(f):\n",
    "    print(\"Accuracy = {0}%\".format(100*np.sum(f(X_test) == y_test)/len(y_test)))\n",
    "    time.sleep(0.5) # to let the print get out before any progress bars\n",
    "\n",
    "def gen_kfold(modelCV, X_train, y_train, additional_label = ''):\n",
    "    kfold = model_selection.KFold(n_splits=10, random_state=7)\n",
    "    scoring = 'accuracy'\n",
    "    results = model_selection.cross_val_score(modelCV, X_train, y_train, cv=kfold, scoring=scoring)\n",
    "    accuracy.append((modelCV.__class__.__name__ + additional_label, results.mean()))\n",
    "    print(\"10-fold cross validation average accuracy: %.3f\" % (results.mean()))\n",
    "\n",
    "def gen_confusion(model, X_test): \n",
    "    y_pred = model.predict(X_test)\n",
    "    print('Accuracy of ' + model.__class__.__name__ + 'classifier on test set: {:.2f}'.format(model.score(X_test, y_test)))\n",
    "    from sklearn.metrics import confusion_matrix\n",
    "    confusion_matrix = confusion_matrix(y_test, y_pred)\n",
    "    print(confusion_matrix)"
   ]
  },
  {
   "cell_type": "code",
   "execution_count": 293,
   "metadata": {},
   "outputs": [],
   "source": [
    "main = pd.read_csv('data.csv')"
   ]
  },
  {
   "cell_type": "code",
   "execution_count": 294,
   "metadata": {},
   "outputs": [],
   "source": [
    "sns.set(style=\"white\")\n",
    "sns.set(style=\"whitegrid\", color_codes=True)\n",
    "logistic = linear_model.LogisticRegression()"
   ]
  },
  {
   "cell_type": "code",
   "execution_count": 295,
   "metadata": {
    "scrolled": false
   },
   "outputs": [],
   "source": [
    "main = main.drop(\"Unnamed: 32\", axis=1)"
   ]
  },
  {
   "cell_type": "code",
   "execution_count": 296,
   "metadata": {},
   "outputs": [
    {
     "data": {
      "text/plain": [
       "array(['M', 'B'], dtype=object)"
      ]
     },
     "execution_count": 296,
     "metadata": {},
     "output_type": "execute_result"
    }
   ],
   "source": [
    "main['diagnosis'].unique()"
   ]
  },
  {
   "cell_type": "code",
   "execution_count": 297,
   "metadata": {},
   "outputs": [
    {
     "name": "stderr",
     "output_type": "stream",
     "text": [
      "/Users/BekkBlando/Documents/github/wisconsin_data/.direnv/python-3.6.5/lib/python3.6/site-packages/ipykernel_launcher.py:1: DeprecationWarning: \n",
      ".ix is deprecated. Please use\n",
      ".loc for label based indexing or\n",
      ".iloc for positional indexing\n",
      "\n",
      "See the documentation here:\n",
      "http://pandas.pydata.org/pandas-docs/stable/indexing.html#ix-indexer-is-deprecated\n",
      "  \"\"\"Entry point for launching an IPython kernel.\n"
     ]
    }
   ],
   "source": [
    "main.ix[main.diagnosis == 'M', 'diagnosis'] = 1\n",
    "main.ix[main.diagnosis == 'B', 'diagnosis'] = 0"
   ]
  },
  {
   "cell_type": "code",
   "execution_count": 298,
   "metadata": {},
   "outputs": [],
   "source": [
    "final_cols = main.columns.values.tolist()\n",
    "y = ['diagnosis']\n",
    "exclude = ['diagnosis', 'id']\n",
    "X = [col for col in final_cols if col not in exclude]"
   ]
  },
  {
   "cell_type": "code",
   "execution_count": 299,
   "metadata": {},
   "outputs": [
    {
     "name": "stderr",
     "output_type": "stream",
     "text": [
      "/Users/BekkBlando/Documents/github/wisconsin_data/.direnv/python-3.6.5/lib/python3.6/site-packages/sklearn/utils/validation.py:578: DataConversionWarning: A column-vector y was passed when a 1d array was expected. Please change the shape of y to (n_samples, ), for example using ravel().\n",
      "  y = column_or_1d(y, warn=True)\n"
     ]
    }
   ],
   "source": [
    "rfe = RFE(logistic, 18)\n",
    "rfe = rfe.fit(main[X], main[y] )\n",
    "col_order = rfe.support_"
   ]
  },
  {
   "cell_type": "code",
   "execution_count": 300,
   "metadata": {},
   "outputs": [],
   "source": [
    "cols = [col for index, col in enumerate(X) if col_order[index]]"
   ]
  },
  {
   "cell_type": "code",
   "execution_count": 301,
   "metadata": {},
   "outputs": [],
   "source": [
    "X = main[cols]\n",
    "y = main['diagnosis']"
   ]
  },
  {
   "cell_type": "code",
   "execution_count": 302,
   "metadata": {},
   "outputs": [
    {
     "data": {
      "text/plain": [
       "LogisticRegression(C=1.0, class_weight=None, dual=False, fit_intercept=True,\n",
       "          intercept_scaling=1, max_iter=100, multi_class='ovr', n_jobs=1,\n",
       "          penalty='l2', random_state=None, solver='liblinear', tol=0.0001,\n",
       "          verbose=0, warm_start=False)"
      ]
     },
     "execution_count": 302,
     "metadata": {},
     "output_type": "execute_result"
    }
   ],
   "source": [
    "X_train, X_test, y_train, y_test = train_test_split(X, y, test_size=0.3, random_state=0)\n",
    "from sklearn import metrics\n",
    "logreg = linear_model.LogisticRegression()\n",
    "logreg.fit(X_train, y_train)\n"
   ]
  },
  {
   "cell_type": "code",
   "execution_count": 303,
   "metadata": {},
   "outputs": [
    {
     "name": "stdout",
     "output_type": "stream",
     "text": [
      "Accuracy of LogisticRegressionclassifier on test set: 0.94\n",
      "[[101   7]\n",
      " [  4  59]]\n",
      "10-fold cross validation average accuracy: 0.947\n"
     ]
    }
   ],
   "source": [
    "gen_confusion(logreg, X_test)\n",
    "gen_kfold(linear_model.LogisticRegression(), X_train, y_train)"
   ]
  },
  {
   "cell_type": "code",
   "execution_count": 304,
   "metadata": {},
   "outputs": [
    {
     "name": "stdout",
     "output_type": "stream",
     "text": [
      "Accuracy = 95.32163742690058%\n",
      "Accuracy of KNeighborsClassifierclassifier on test set: 0.95\n",
      "[[103   5]\n",
      " [  3  60]]\n",
      "10-fold cross validation average accuracy: 0.932\n"
     ]
    }
   ],
   "source": [
    "# Time for K Means\n",
    "knn = neighbors.KNeighborsClassifier()\n",
    "knn.fit(X_train, y_train)\n",
    "\n",
    "print_accuracy(knn.predict)\n",
    "\n",
    "gen_confusion(knn, X_test)\n",
    "gen_kfold(neighbors.KNeighborsClassifier(), X_train, y_train)"
   ]
  },
  {
   "cell_type": "code",
   "execution_count": 305,
   "metadata": {},
   "outputs": [
    {
     "name": "stdout",
     "output_type": "stream",
     "text": [
      "Accuracy = 90.64327485380117%\n",
      "Accuracy of SVCclassifier on test set: 0.91\n",
      "[[93 15]\n",
      " [ 1 62]]\n",
      "10-fold cross validation average accuracy: 0.876\n"
     ]
    }
   ],
   "source": [
    "# SVM Time - Radial Kernal\n",
    "svc_radial = svm.SVC(kernel='rbf', probability=True)\n",
    "svc_radial.fit(X_train, y_train)\n",
    "print_accuracy(svc_radial.predict)\n",
    "\n",
    "gen_confusion(svc_radial, X_test)\n",
    "gen_kfold(svm.SVC(kernel='rbf', probability=True), X_train, y_train, \"Radial Kernal\")\n",
    "\n",
    "# TODO Generate these graphs\n",
    "# shap_values = shap.KernelExplainer(svc_radial.predict_proba, X_train).shap_values(X_test)\n",
    "# shap.force_plot(shap_values[0], X_test)"
   ]
  },
  {
   "cell_type": "code",
   "execution_count": 306,
   "metadata": {},
   "outputs": [
    {
     "name": "stdout",
     "output_type": "stream",
     "text": [
      "Accuracy = 63.1578947368421%\n",
      "Accuracy of SVCclassifier on test set: 0.63\n",
      "[[108   0]\n",
      " [ 63   0]]\n",
      "10-fold cross validation average accuracy: 0.625\n"
     ]
    }
   ],
   "source": [
    "# SVM Time - Sigmoid Kernal\n",
    "svc_sigmoid = svm.SVC(kernel='sigmoid', probability=True)\n",
    "svc_sigmoid.fit(X_train, y_train)\n",
    "print_accuracy(svc_sigmoid.predict)\n",
    "\n",
    "gen_confusion(svc_sigmoid, X_test)\n",
    "gen_kfold(svm.SVC(kernel='sigmoid', probability=True), X_train, y_train, \"Sigmoid Kernal\")\n",
    "\n",
    "# TODO Generate these graphs\n",
    "# shap_values = shap.KernelExplainer(svc_sigmoid.predict_proba, X_train).shap_values(X_test)\n",
    "# shap.force_plot(shap_values[0], X_test)"
   ]
  },
  {
   "cell_type": "code",
   "execution_count": 307,
   "metadata": {},
   "outputs": [
    {
     "name": "stdout",
     "output_type": "stream",
     "text": [
      "Accuracy = 92.98245614035088%\n",
      "Accuracy of SVCclassifier on test set: 0.93\n",
      "[[98 10]\n",
      " [ 2 61]]\n",
      "10-fold cross validation average accuracy: 0.947\n"
     ]
    }
   ],
   "source": [
    "# SVM Time - Polynomial Kernal\n",
    "svc_poly = svm.SVC(kernel='poly', probability=True)\n",
    "svc_poly.fit(X_train, y_train)\n",
    "print_accuracy(svc_poly.predict)\n",
    "\n",
    "gen_confusion(svc_poly, X_test)\n",
    "gen_kfold(svm.SVC(kernel='poly', probability=True), X_train, y_train, \"Polynomial Kernal\")\n",
    "\n",
    "# TODO Generate these graphs\n",
    "# shap_values = shap.KernelExplainer(svc_linear.predict_proba, X_train).shap_values(X_test)\n",
    "# shap.force_plot(shap_values[0], X_test)"
   ]
  },
  {
   "cell_type": "code",
   "execution_count": 308,
   "metadata": {},
   "outputs": [
    {
     "name": "stdout",
     "output_type": "stream",
     "text": [
      "Accuracy = 95.90643274853801%\n",
      "Accuracy of SVCclassifier on test set: 0.96\n",
      "[[102   6]\n",
      " [  1  62]]\n",
      "10-fold cross validation average accuracy: 0.945\n"
     ]
    }
   ],
   "source": [
    "# SVM Time - Linear Kernal\n",
    "svc_linear = svm.SVC(kernel='linear', probability=True)\n",
    "svc_linear.fit(X_train, y_train)\n",
    "print_accuracy(svc_linear.predict)\n",
    "\n",
    "\n",
    "gen_confusion(svc_linear, X_test)\n",
    "gen_kfold(svm.SVC(kernel='linear', probability=True), X_train, y_train, \"Linear Kernal\")\n",
    "\n",
    "# TODO Generate these graphs\n",
    "# shap_values = shap.KernelExplainer(svc_linear.predict_proba, X_train).shap_values(X_test)\n",
    "# shap.force_plot(shap_values[0], X_test)"
   ]
  },
  {
   "cell_type": "code",
   "execution_count": 309,
   "metadata": {},
   "outputs": [
    {
     "name": "stdout",
     "output_type": "stream",
     "text": [
      "Accuracy = 94.73684210526316%\n",
      "Accuracy of RandomForestClassifierclassifier on test set: 0.95\n",
      "[[103   5]\n",
      " [  4  59]]\n",
      "10-fold cross validation average accuracy: 0.947\n"
     ]
    }
   ],
   "source": [
    "# Random Forest Time\n",
    "from sklearn.ensemble import RandomForestClassifier\n",
    "rforest = RandomForestClassifier(n_estimators=100, max_depth=None, min_samples_split=2, random_state=0)\n",
    "rforest.fit(X_train, y_train)\n",
    "print_accuracy(rforest.predict)\n",
    "\n",
    "gen_confusion(rforest, X_test)\n",
    "gen_kfold(RandomForestClassifier(n_estimators=100, max_depth=None, min_samples_split=2, random_state=0), X_train, y_train)\n",
    "\n",
    "# TODO Generate these graphs\n",
    "# shap_values = shap.KernelExplainer(rforest.predict_proba, X_train).shap_values(X_test)\n",
    "# shap.force_plot(shap_values[0], X_test)"
   ]
  },
  {
   "cell_type": "code",
   "execution_count": 310,
   "metadata": {},
   "outputs": [
    {
     "name": "stdout",
     "output_type": "stream",
     "text": [
      "Accuracy = 92.98245614035088%\n",
      "Accuracy of DecisionTreeClassifierclassifier on test set: 0.93\n",
      "[[99  9]\n",
      " [ 3 60]]\n",
      "10-fold cross validation average accuracy: 0.917\n"
     ]
    }
   ],
   "source": [
    "# Decision Tree Time\n",
    "dtree = tree.DecisionTreeClassifier(min_samples_split=2)\n",
    "dtree.fit(X_train, y_train)\n",
    "print_accuracy(dtree.predict)\n",
    "\n",
    "gen_confusion(dtree, X_test)\n",
    "gen_kfold(tree.DecisionTreeClassifier(min_samples_split=2), X_train, y_train)\n",
    "\n",
    "\n",
    "# TODO Generate these graphs\n",
    "# shap_values = shap.KernelExplainer(dtree.predict_proba, X_train).shap_values(X_test)\n",
    "# shap.force_plot(shap_values[0], X_test)"
   ]
  },
  {
   "cell_type": "code",
   "execution_count": 311,
   "metadata": {},
   "outputs": [
    {
     "name": "stdout",
     "output_type": "stream",
     "text": [
      "Accuracy = 92.98245614035088%\n",
      "Accuracy of MLPClassifierclassifier on test set: 0.93\n",
      "[[99  9]\n",
      " [ 3 60]]\n",
      "10-fold cross validation average accuracy: 0.945\n"
     ]
    }
   ],
   "source": [
    "# Simple Neural Net\n",
    "from sklearn.neural_network import MLPClassifier\n",
    "nn = MLPClassifier(solver='lbfgs', alpha=1e-1, hidden_layer_sizes=(5, 2), random_state=0)\n",
    "nn.fit(X_train, y_train)\n",
    "print_accuracy(nn.predict)\n",
    "\n",
    "gen_confusion(nn, X_test)\n",
    "gen_kfold(MLPClassifier(solver='lbfgs', alpha=1e-1, hidden_layer_sizes=(5, 2), random_state=0), X_train, y_train)\n",
    "\n",
    "# explain all the predictions in the test set\n",
    "# shap_values = shap.KernelExplainer(nn.predict_proba, X_train).shap_values(X_test)\n",
    "# shap.force_plot(shap_values[0], X_test)"
   ]
  },
  {
   "cell_type": "code",
   "execution_count": 312,
   "metadata": {},
   "outputs": [
    {
     "name": "stdout",
     "output_type": "stream",
     "text": [
      "Accuracy = 91.2280701754386%\n",
      "Accuracy of GaussianNBclassifier on test set: 0.91\n",
      "[[101   7]\n",
      " [  8  55]]\n",
      "10-fold cross validation average accuracy: 0.942\n"
     ]
    }
   ],
   "source": [
    "# Naive Bayes\n",
    "from sklearn.naive_bayes import GaussianNB\n",
    "gnb = GaussianNB()\n",
    "gnb.fit(X_train, y_train)\n",
    "print_accuracy(gnb.predict)\n",
    "\n",
    "gen_confusion(gnb, X_test)\n",
    "gen_kfold(GaussianNB(), X_train, y_train)\n",
    "# shap_values = shap.KernelExplainer(gnb.predict_proba, X_train).shap_values(X_test)\n",
    "# shap.force_plot(shap_values[0], X_test)"
   ]
  },
  {
   "cell_type": "code",
   "execution_count": 313,
   "metadata": {},
   "outputs": [
    {
     "name": "stdout",
     "output_type": "stream",
     "text": [
      "Accuracy = 83.04093567251462%\n",
      "Accuracy of SGDClassifierclassifier on test set: 0.83\n",
      "[[85 23]\n",
      " [ 6 57]]\n",
      "10-fold cross validation average accuracy: 0.734\n"
     ]
    }
   ],
   "source": [
    "# SGD Classifier\n",
    "clf = linear_model.SGDClassifier(max_iter=30, tol=1e-3)\n",
    "clf.fit(X_train, y_train)\n",
    "\n",
    "print_accuracy(clf.predict)\n",
    "\n",
    "gen_confusion(clf, X_test)\n",
    "gen_kfold(linear_model.SGDClassifier(max_iter=100, tol=1e-3), X_train, y_train)"
   ]
  },
  {
   "cell_type": "code",
   "execution_count": 314,
   "metadata": {
    "scrolled": false
   },
   "outputs": [
    {
     "name": "stdout",
     "output_type": "stream",
     "text": [
      "Accuracy = 77.77777777777777%\n",
      "Accuracy of SGDClassifierclassifier on test set: 0.78\n",
      "[[108   0]\n",
      " [ 38  25]]\n",
      "10-fold cross validation average accuracy: 0.794\n"
     ]
    }
   ],
   "source": [
    "# Perceptron\n",
    "iteration = 10\n",
    "clf = linear_model.SGDClassifier(loss=\"perceptron\", eta0=1, learning_rate=\"constant\", penalty=None, max_iter=iteration, tol=1e-3)\n",
    "clf.fit(X_train, y_train)\n",
    "\n",
    "print_accuracy(clf.predict)\n",
    "\n",
    "gen_confusion(clf, X_test)\n",
    "gen_kfold(linear_model.SGDClassifier(loss=\"perceptron\", eta0=1, learning_rate=\"constant\", penalty=None, max_iter=iteration, tol=1e-3), X_train, y_train)\n"
   ]
  },
  {
   "cell_type": "code",
   "execution_count": 315,
   "metadata": {},
   "outputs": [
    {
     "name": "stdout",
     "output_type": "stream",
     "text": [
      "Computing regularization path using the LARS ...\n",
      "."
     ]
    },
    {
     "data": {
      "image/png": "[encoded data removed]",
      "text/plain": [
       "<Figure size 432x288 with 1 Axes>"
      ]
     },
     "metadata": {},
     "output_type": "display_data"
    }
   ],
   "source": [
    "\n",
    "print(\"Computing regularization path using the LARS ...\")\n",
    "alphas, _, coefs = linear_model.lars_path(X_train.as_matrix(), y_train, method='lasso', verbose=True)\n",
    "\n",
    "xx = np.sum(np.abs(coefs.T), axis=1)\n",
    "xx /= xx[-1]\n",
    "\n",
    "plt.plot(xx, coefs.T)\n",
    "ymin, ymax = plt.ylim()\n",
    "plt.vlines(xx, ymin, ymax, linestyle='dashed')\n",
    "plt.xlabel('|coef| / max|coef|')\n",
    "plt.ylabel('Coefficients')\n",
    "plt.title('LASSO Path')\n",
    "plt.axis('tight')\n",
    "plt.show()"
   ]
  },
  {
   "cell_type": "code",
   "execution_count": 316,
   "metadata": {},
   "outputs": [
    {
     "name": "stdout",
     "output_type": "stream",
     "text": [
      "Accuracy = 82.45614035087719%\n",
      "Accuracy of RadiusNeighborsClassifierclassifier on test set: 0.82\n",
      "[[108   0]\n",
      " [ 30  33]]\n",
      "10-fold cross validation average accuracy: 0.834\n"
     ]
    }
   ],
   "source": [
    "# Radius Neighbors Classifier\n",
    "radius = 70\n",
    "rnc = neighbors.RadiusNeighborsClassifier(radius = radius)\n",
    "rnc.fit(X_train, y_train)\n",
    "\n",
    "print_accuracy(rnc.predict)\n",
    "\n",
    "gen_confusion(rnc, X_test)\n",
    "gen_kfold(neighbors.RadiusNeighborsClassifier(radius = radius), X_train, y_train)"
   ]
  },
  {
   "cell_type": "code",
   "execution_count": 317,
   "metadata": {},
   "outputs": [
    {
     "name": "stdout",
     "output_type": "stream",
     "text": [
      "Accuracy = 88.30409356725146%\n",
      "Accuracy of NearestCentroidclassifier on test set: 0.88\n",
      "[[106   2]\n",
      " [ 18  45]]\n",
      "10-fold cross validation average accuracy: 0.895\n"
     ]
    }
   ],
   "source": [
    "# Neartest Shrunken Centroid\n",
    "clf = neighbors.NearestCentroid(shrink_threshold=.1)\n",
    "clf.fit(X_train, y_train)\n",
    "\n",
    "print_accuracy(clf.predict)\n",
    "\n",
    "gen_confusion(clf, X_test)\n",
    "gen_kfold(neighbors.NearestCentroid(shrink_threshold=.1), X_train, y_train)"
   ]
  },
  {
   "cell_type": "code",
   "execution_count": 318,
   "metadata": {},
   "outputs": [
    {
     "name": "stdout",
     "output_type": "stream",
     "text": [
      "Accuracy = 93.5672514619883%\n",
      "Accuracy of GaussianProcessClassifierclassifier on test set: 0.94\n",
      "[[100   8]\n",
      " [  3  60]]\n",
      "10-fold cross validation average accuracy: 0.912\n"
     ]
    }
   ],
   "source": [
    "# Gaussian Process Classifier - 1.0 * RBF(1.0)\n",
    "gausc = gaussian_process.GaussianProcessClassifier()\n",
    "gausc.fit(X_train, y_train)\n",
    "\n",
    "print_accuracy(gausc.predict)\n",
    "\n",
    "gen_confusion(gausc, X_test)\n",
    "gen_kfold(gaussian_process.GaussianProcessClassifier(), X_train, y_train)"
   ]
  },
  {
   "cell_type": "code",
   "execution_count": 319,
   "metadata": {},
   "outputs": [
    {
     "name": "stdout",
     "output_type": "stream",
     "text": [
      "Accuracy = 95.32163742690058%\n",
      "Accuracy of LinearDiscriminantAnalysisclassifier on test set: 0.95\n",
      "[[108   0]\n",
      " [  8  55]]\n",
      "10-fold cross validation average accuracy: 0.960\n"
     ]
    }
   ],
   "source": [
    "from sklearn.discriminant_analysis import LinearDiscriminantAnalysis\n",
    "# Linear Discriminant Analysis\n",
    "lda = LinearDiscriminantAnalysis()\n",
    "lda.fit(X_train, y_train)\n",
    "\n",
    "print_accuracy(lda.predict)\n",
    "\n",
    "gen_confusion(lda, X_test)\n",
    "gen_kfold(LinearDiscriminantAnalysis(), X_train, y_train)"
   ]
  },
  {
   "cell_type": "code",
   "execution_count": 320,
   "metadata": {},
   "outputs": [
    {
     "name": "stdout",
     "output_type": "stream",
     "text": [
      "Accuracy = 94.73684210526316%\n",
      "Accuracy of ExtraTreesClassifierclassifier on test set: 0.95\n",
      "[[101   7]\n",
      " [  2  61]]\n",
      "10-fold cross validation average accuracy: 0.947\n"
     ]
    }
   ],
   "source": [
    "from sklearn.ensemble import ExtraTreesClassifier, GradientBoostingClassifier, AdaBoostClassifier\n",
    "# Extra Trees Classifier\n",
    "etc = ExtraTreesClassifier()\n",
    "etc.fit(X_train, y_train)\n",
    "\n",
    "print_accuracy(etc.predict)\n",
    "\n",
    "gen_confusion(etc, X_test)\n",
    "gen_kfold(ExtraTreesClassifier(), X_train, y_train)"
   ]
  },
  {
   "cell_type": "code",
   "execution_count": 321,
   "metadata": {},
   "outputs": [
    {
     "name": "stdout",
     "output_type": "stream",
     "text": [
      "Accuracy = 97.07602339181287%\n",
      "Accuracy of GradientBoostingClassifierclassifier on test set: 0.97\n",
      "[[106   2]\n",
      " [  3  60]]\n",
      "10-fold cross validation average accuracy: 0.950\n"
     ]
    }
   ],
   "source": [
    "# Gradient Boosting Classifier\n",
    "gbc = GradientBoostingClassifier()\n",
    "gbc.fit(X_train, y_train)\n",
    "\n",
    "print_accuracy(gbc.predict)\n",
    "\n",
    "gen_confusion(gbc, X_test)\n",
    "gen_kfold(GradientBoostingClassifier(), X_train, y_train)"
   ]
  },
  {
   "cell_type": "code",
   "execution_count": 322,
   "metadata": {},
   "outputs": [
    {
     "name": "stdout",
     "output_type": "stream",
     "text": [
      "Accuracy = 91.2280701754386%\n",
      "Accuracy of QuadraticDiscriminantAnalysisclassifier on test set: 0.91\n",
      "[[100   8]\n",
      " [  7  56]]\n",
      "10-fold cross validation average accuracy: 0.952\n"
     ]
    }
   ],
   "source": [
    "from sklearn.discriminant_analysis import QuadraticDiscriminantAnalysis\n",
    "# Quadrati Discriminant Analysis\n",
    "qda = QuadraticDiscriminantAnalysis()\n",
    "qda.fit(X_train, y_train)\n",
    "\n",
    "print_accuracy(qda.predict)\n",
    "\n",
    "gen_confusion(qda, X_test)\n",
    "gen_kfold(QuadraticDiscriminantAnalysis(), X_train, y_train)"
   ]
  },
  {
   "cell_type": "code",
   "execution_count": 323,
   "metadata": {},
   "outputs": [
    {
     "name": "stdout",
     "output_type": "stream",
     "text": [
      "Accuracy = 95.90643274853801%\n",
      "Accuracy of AdaBoostClassifierclassifier on test set: 0.96\n",
      "[[105   3]\n",
      " [  4  59]]\n",
      "10-fold cross validation average accuracy: 0.972\n"
     ]
    }
   ],
   "source": [
    "# Ada Classifier\n",
    "ada = AdaBoostClassifier()\n",
    "ada.fit(X_train, y_train)\n",
    "\n",
    "print_accuracy(ada.predict)\n",
    "\n",
    "gen_confusion(ada, X_test)\n",
    "gen_kfold(AdaBoostClassifier(), X_train, y_train)"
   ]
  },
  {
   "cell_type": "code",
   "execution_count": 324,
   "metadata": {},
   "outputs": [],
   "source": [
    "labels = [pair[0] for pair in accuracy]\n",
    "acc = [pair[1] for pair in accuracy]\n",
    "y_pos = np.arange(len(acc))"
   ]
  },
  {
   "cell_type": "code",
   "execution_count": 325,
   "metadata": {},
   "outputs": [
    {
     "data": {
      "image/png": "[encoded data removed]",
      "text/plain": [
       "<Figure size 432x288 with 1 Axes>"
      ]
     },
     "metadata": {},
     "output_type": "display_data"
    }
   ],
   "source": [
    "plt.bar(y_pos, acc, align='center', alpha=0.5)\n",
    "plt.xticks(y_pos, labels, rotation='vertical')\n",
    "plt.ylabel('Accuracy From K-Folds')\n",
    "plt.title('Model Used')\n",
    " \n",
    "plt.show()"
   ]
  },
  {
   "cell_type": "code",
   "execution_count": null,
   "metadata": {},
   "outputs": [],
   "source": []
  }
 ],
 "metadata": {
  "kernelspec": {
   "display_name": "Python 3",
   "language": "python",
   "name": "python3"
  },
  "language_info": {
   "codemirror_mode": {
    "name": "ipython",
    "version": 3
   },
   "file_extension": ".py",
   "mimetype": "text/x-python",
   "name": "python",
   "nbconvert_exporter": "python",
   "pygments_lexer": "ipython3",
   "version": "3.6.5"
  }
 },
 "nbformat": 4,
 "nbformat_minor": 2
}
