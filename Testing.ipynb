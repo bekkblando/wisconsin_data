{
 "cells": [
  {
   "cell_type": "code",
   "execution_count": 1,
   "metadata": {},
   "outputs": [
    {
     "name": "stderr",
     "output_type": "stream",
     "text": [
      "/Users/BekkBlando/Documents/github/wisconsin_data/.direnv/python-3.6.5/lib/python3.6/site-packages/sklearn/cross_validation.py:41: DeprecationWarning: This module was deprecated in version 0.18 in favor of the model_selection module into which all the refactored classes and functions are moved. Also note that the interface of the new CV iterators are different from that of this module. This module will be removed in 0.20.\n",
      "  \"This module will be removed in 0.20.\", DeprecationWarning)\n"
     ]
    }
   ],
   "source": [
    "import pandas as pd\n",
    "from sklearn import linear_model, neighbors, svm, tree, gaussian_process\n",
    "import shap\n",
    "import numpy as np\n",
    "from sklearn.cross_validation import train_test_split\n",
    "import seaborn as sns\n",
    "from sklearn.feature_selection import RFE\n",
    "import time\n",
    "from sklearn import model_selection\n",
    "from sklearn.model_selection import cross_val_score\n",
    "import matplotlib.pyplot as plt"
   ]
  },
  {
   "cell_type": "code",
   "execution_count": 42,
   "metadata": {},
   "outputs": [],
   "source": [
    "# TODO This is not an ideal form of model selection and is done for exploratory/learning purposes\n",
    "# TODO This can really be automated if the specific implementations of the models are this basic\n",
    "accuracy = []"
   ]
  },
  {
   "cell_type": "code",
   "execution_count": 43,
   "metadata": {},
   "outputs": [],
   "source": [
    "def print_accuracy(f):\n",
    "    print(\"Accuracy = {0}%\".format(100*np.sum(f(X_test) == y_test)/len(y_test)))\n",
    "    time.sleep(0.5) # to let the print get out before any progress bars\n",
    "\n",
    "def gen_kfold(modelCV, X_train, y_train, additional_label = ''):\n",
    "    kfold = model_selection.KFold(n_splits=10, random_state=7)\n",
    "    scoring = 'accuracy'\n",
    "    results = model_selection.cross_val_score(modelCV, X_train, y_train, cv=kfold, scoring=scoring)\n",
    "    accuracy.append((modelCV.__class__.__name__ + additional_label, results.mean()))\n",
    "    print(\"10-fold cross validation average accuracy: %.3f\" % (results.mean()))\n",
    "\n",
    "def gen_confusion(model, X_test): \n",
    "    y_pred = model.predict(X_test)\n",
    "    print('Accuracy of ' + model.__class__.__name__ + 'classifier on test set: {:.2f}'.format(model.score(X_test, y_test)))\n",
    "    from sklearn.metrics import confusion_matrix\n",
    "    confusion_matrix = confusion_matrix(y_test, y_pred)\n",
    "    print(confusion_matrix)"
   ]
  },
  {
   "cell_type": "code",
   "execution_count": 44,
   "metadata": {},
   "outputs": [],
   "source": [
    "main = pd.read_csv('data.csv')"
   ]
  },
  {
   "cell_type": "code",
   "execution_count": 45,
   "metadata": {},
   "outputs": [],
   "source": [
    "sns.set(style=\"white\")\n",
    "sns.set(style=\"whitegrid\", color_codes=True)"
   ]
  },
  {
   "cell_type": "code",
   "execution_count": 46,
   "metadata": {
    "scrolled": false
   },
   "outputs": [],
   "source": [
    "main = main.drop(\"Unnamed: 32\", axis=1)"
   ]
  },
  {
   "cell_type": "code",
   "execution_count": 47,
   "metadata": {},
   "outputs": [
    {
     "data": {
      "text/plain": [
       "array(['M', 'B'], dtype=object)"
      ]
     },
     "execution_count": 47,
     "metadata": {},
     "output_type": "execute_result"
    }
   ],
   "source": [
    "main['diagnosis'].unique()"
   ]
  },
  {
   "cell_type": "code",
   "execution_count": 48,
   "metadata": {},
   "outputs": [
    {
     "name": "stderr",
     "output_type": "stream",
     "text": [
      "/Users/BekkBlando/Documents/github/wisconsin_data/.direnv/python-3.6.5/lib/python3.6/site-packages/ipykernel_launcher.py:1: DeprecationWarning: \n",
      ".ix is deprecated. Please use\n",
      ".loc for label based indexing or\n",
      ".iloc for positional indexing\n",
      "\n",
      "See the documentation here:\n",
      "http://pandas.pydata.org/pandas-docs/stable/indexing.html#ix-indexer-is-deprecated\n",
      "  \"\"\"Entry point for launching an IPython kernel.\n"
     ]
    }
   ],
   "source": [
    "main.ix[main.diagnosis == 'M', 'diagnosis'] = 1\n",
    "main.ix[main.diagnosis == 'B', 'diagnosis'] = 0"
   ]
  },
  {
   "cell_type": "code",
   "execution_count": 49,
   "metadata": {},
   "outputs": [],
   "source": [
    "def gen_rfe(model, X, y):\n",
    "    rfe = RFE(model)\n",
    "    rfe = rfe.fit(main[X], main[y])\n",
    "    print(list(zip(X, rfe.ranking_, rfe.support_)))\n",
    "    print(rfe.estimator)\n",
    "    table = pd.DataFrame({\n",
    "        'Ranking': rfe.ranking_,\n",
    "        'Included': rfe.support_,\n",
    "        'Feature': X\n",
    "    })\n",
    "    print(table)\n",
    "    return(rfe.support_)"
   ]
  },
  {
   "cell_type": "code",
   "execution_count": 50,
   "metadata": {},
   "outputs": [],
   "source": [
    "cols = []\n",
    "def get_train_test_data(model):\n",
    "    final_cols = main.columns.values.tolist()\n",
    "    y = ['diagnosis']\n",
    "    exclude = ['diagnosis', 'id']\n",
    "    X = [col for col in final_cols if col not in exclude]\n",
    "    picked_features = gen_rfe(model, X, y)\n",
    "    cols = [col for index, col in enumerate(X) if picked_features[index]]\n",
    "    X = main[cols]\n",
    "    y = main['diagnosis']\n",
    "    return(train_test_split(X, y, test_size=0.3, random_state=0))"
   ]
  },
  {
   "cell_type": "code",
   "execution_count": 51,
   "metadata": {},
   "outputs": [],
   "source": [
    "def plot_coef_feature(coefs):\n",
    "    print(list(zip(cols, coefs)))\n",
    "    plt.bar(np.arange(len(coefs)), coefs, align='center', alpha=0.5)\n",
    "    plt.xticks(np.arange(len(coefs)), cols, rotation='vertical')\n",
    "    plt.ylabel('Coefficient')\n",
    "    plt.title('Feature')\n",
    "    plt.figure(num=None, figsize=(80, 60), dpi=80, facecolor='w', edgecolor='k')"
   ]
  },
  {
   "cell_type": "code",
   "execution_count": 52,
   "metadata": {},
   "outputs": [
    {
     "name": "stderr",
     "output_type": "stream",
     "text": [
      "/Users/BekkBlando/Documents/github/wisconsin_data/.direnv/python-3.6.5/lib/python3.6/site-packages/sklearn/utils/validation.py:578: DataConversionWarning: A column-vector y was passed when a 1d array was expected. Please change the shape of y to (n_samples, ), for example using ravel().\n",
      "  y = column_or_1d(y, warn=True)\n"
     ]
    },
    {
     "name": "stdout",
     "output_type": "stream",
     "text": [
      "[('radius_mean', 1, True), ('texture_mean', 1, True), ('perimeter_mean', 1, True), ('area_mean', 15, False), ('smoothness_mean', 1, True), ('compactness_mean', 5, False), ('concavity_mean', 1, True), ('concave points_mean', 1, True), ('symmetry_mean', 1, True), ('fractal_dimension_mean', 10, False), ('radius_se', 12, False), ('texture_se', 1, True), ('perimeter_se', 14, False), ('area_se', 3, False), ('smoothness_se', 11, False), ('compactness_se', 16, False), ('concavity_se', 2, False), ('concave points_se', 8, False), ('symmetry_se', 6, False), ('fractal_dimension_se', 13, False), ('radius_worst', 1, True), ('texture_worst', 1, True), ('perimeter_worst', 4, False), ('area_worst', 9, False), ('smoothness_worst', 1, True), ('compactness_worst', 7, False), ('concavity_worst', 1, True), ('concave points_worst', 1, True), ('symmetry_worst', 1, True), ('fractal_dimension_worst', 1, True)]\n",
      "LogisticRegression(C=1.0, class_weight=None, dual=False, fit_intercept=True,\n",
      "          intercept_scaling=1, max_iter=100, multi_class='ovr', n_jobs=1,\n",
      "          penalty='l2', random_state=None, solver='liblinear', tol=0.0001,\n",
      "          verbose=0, warm_start=False)\n",
      "                    Feature  Included  Ranking\n",
      "0               radius_mean      True        1\n",
      "1              texture_mean      True        1\n",
      "2            perimeter_mean      True        1\n",
      "3                 area_mean     False       15\n",
      "4           smoothness_mean      True        1\n",
      "5          compactness_mean     False        5\n",
      "6            concavity_mean      True        1\n",
      "7       concave points_mean      True        1\n",
      "8             symmetry_mean      True        1\n",
      "9    fractal_dimension_mean     False       10\n",
      "10                radius_se     False       12\n",
      "11               texture_se      True        1\n",
      "12             perimeter_se     False       14\n",
      "13                  area_se     False        3\n",
      "14            smoothness_se     False       11\n",
      "15           compactness_se     False       16\n",
      "16             concavity_se     False        2\n",
      "17        concave points_se     False        8\n",
      "18              symmetry_se     False        6\n",
      "19     fractal_dimension_se     False       13\n",
      "20             radius_worst      True        1\n",
      "21            texture_worst      True        1\n",
      "22          perimeter_worst     False        4\n",
      "23               area_worst     False        9\n",
      "24         smoothness_worst      True        1\n",
      "25        compactness_worst     False        7\n",
      "26          concavity_worst      True        1\n",
      "27     concave points_worst      True        1\n",
      "28           symmetry_worst      True        1\n",
      "29  fractal_dimension_worst      True        1\n",
      "Accuracy of LogisticRegressionclassifier on test set: 0.94\n",
      "[[103   5]\n",
      " [  6  57]]\n",
      "10-fold cross validation average accuracy: 0.952\n",
      "[]\n"
     ]
    },
    {
     "data": {
      "image/png": "[encoded data removed]",
      "text/plain": [
       "<Figure size 432x288 with 1 Axes>"
      ]
     },
     "metadata": {},
     "output_type": "display_data"
    },
    {
     "data": {
      "text/plain": [
       "<Figure size 6400x4800 with 0 Axes>"
      ]
     },
     "metadata": {},
     "output_type": "display_data"
    }
   ],
   "source": [
    "from sklearn import metrics\n",
    "X_train, X_test, y_train, y_test = get_train_test_data(linear_model.LogisticRegression())\n",
    "logreg = linear_model.LogisticRegression()\n",
    "logreg.fit(X_train, y_train)\n",
    "gen_confusion(logreg, X_test)\n",
    "gen_kfold(linear_model.LogisticRegression(), X_train, y_train)\n",
    "plot_coef_feature(logreg.coef_[0])"
   ]
  },
  {
   "cell_type": "code",
   "execution_count": 53,
   "metadata": {},
   "outputs": [
    {
     "name": "stdout",
     "output_type": "stream",
     "text": [
      "Accuracy = 91.2280701754386%\n",
      "Accuracy of KNeighborsClassifierclassifier on test set: 0.91\n",
      "[[101   7]\n",
      " [  8  55]]\n",
      "10-fold cross validation average accuracy: 0.925\n"
     ]
    }
   ],
   "source": [
    "# Time for K Means\n",
    "knn = neighbors.KNeighborsClassifier()\n",
    "knn.fit(X_train, y_train)\n",
    "\n",
    "print_accuracy(knn.predict)\n",
    "\n",
    "gen_confusion(knn, X_test)\n",
    "gen_kfold(neighbors.KNeighborsClassifier(), X_train, y_train)"
   ]
  },
  {
   "cell_type": "code",
   "execution_count": 54,
   "metadata": {},
   "outputs": [
    {
     "name": "stdout",
     "output_type": "stream",
     "text": [
      "Accuracy = 94.73684210526316%\n",
      "Accuracy of SVCclassifier on test set: 0.95\n",
      "[[104   4]\n",
      " [  5  58]]\n",
      "10-fold cross validation average accuracy: 0.917\n"
     ]
    }
   ],
   "source": [
    "# SVM Time - Radial Kernal\n",
    "svc_radial = svm.SVC(kernel='rbf', probability=True)\n",
    "svc_radial.fit(X_train, y_train)\n",
    "print_accuracy(svc_radial.predict)\n",
    "\n",
    "gen_confusion(svc_radial, X_test)\n",
    "gen_kfold(svm.SVC(kernel='rbf', probability=True), X_train, y_train, \"Radial Kernal\")\n",
    "\n",
    "# TODO Generate these graphs\n",
    "# shap_values = shap.KernelExplainer(svc_radial.predict_proba, X_train).shap_values(X_test)\n",
    "# shap.force_plot(shap_values[0], X_test)"
   ]
  },
  {
   "cell_type": "code",
   "execution_count": 55,
   "metadata": {},
   "outputs": [
    {
     "name": "stdout",
     "output_type": "stream",
     "text": [
      "Accuracy = 63.1578947368421%\n",
      "Accuracy of SVCclassifier on test set: 0.63\n",
      "[[108   0]\n",
      " [ 63   0]]\n",
      "10-fold cross validation average accuracy: 0.625\n"
     ]
    }
   ],
   "source": [
    "# SVM Time - Sigmoid Kernal\n",
    "svc_sigmoid = svm.SVC(kernel='sigmoid', probability=True)\n",
    "svc_sigmoid.fit(X_train, y_train)\n",
    "print_accuracy(svc_sigmoid.predict)\n",
    "\n",
    "gen_confusion(svc_sigmoid, X_test)\n",
    "gen_kfold(svm.SVC(kernel='sigmoid', probability=True), X_train, y_train, \"Sigmoid Kernal\")\n",
    "\n",
    "# TODO Generate these graphs\n",
    "# shap_values = shap.KernelExplainer(svc_sigmoid.predict_proba, X_train).shap_values(X_test)\n",
    "# shap.force_plot(shap_values[0], X_test)"
   ]
  },
  {
   "cell_type": "code",
   "execution_count": 77,
   "metadata": {},
   "outputs": [
    {
     "name": "stdout",
     "output_type": "stream",
     "text": [
      "[('radius_mean', 1, True), ('texture_mean', 2, False), ('perimeter_mean', 1, True), ('area_mean', 14, False), ('smoothness_mean', 1, True), ('compactness_mean', 6, False), ('concavity_mean', 1, True), ('concave points_mean', 1, True), ('symmetry_mean', 1, True), ('fractal_dimension_mean', 1, True), ('radius_se', 12, False), ('texture_se', 1, True), ('perimeter_se', 15, False), ('area_se', 4, False), ('smoothness_se', 11, False), ('compactness_se', 16, False), ('concavity_se', 3, False), ('concave points_se', 9, False), ('symmetry_se', 7, False), ('fractal_dimension_se', 13, False), ('radius_worst', 1, True), ('texture_worst', 1, True), ('perimeter_worst', 5, False), ('area_worst', 10, False), ('smoothness_worst', 1, True), ('compactness_worst', 8, False), ('concavity_worst', 1, True), ('concave points_worst', 1, True), ('symmetry_worst', 1, True), ('fractal_dimension_worst', 1, True)]\n",
      "LogisticRegression(C=1.0, class_weight=None, dual=False, fit_intercept=True,\n",
      "          intercept_scaling=1, max_iter=100, multi_class='ovr', n_jobs=1,\n",
      "          penalty='l2', random_state=None, solver='liblinear', tol=0.0001,\n",
      "          verbose=0, warm_start=False)\n",
      "                    Feature  Included  Ranking\n",
      "0               radius_mean      True        1\n",
      "1              texture_mean     False        2\n",
      "2            perimeter_mean      True        1\n",
      "3                 area_mean     False       14\n",
      "4           smoothness_mean      True        1\n",
      "5          compactness_mean     False        6\n",
      "6            concavity_mean      True        1\n",
      "7       concave points_mean      True        1\n",
      "8             symmetry_mean      True        1\n",
      "9    fractal_dimension_mean      True        1\n",
      "10                radius_se     False       12\n",
      "11               texture_se      True        1\n",
      "12             perimeter_se     False       15\n",
      "13                  area_se     False        4\n",
      "14            smoothness_se     False       11\n",
      "15           compactness_se     False       16\n",
      "16             concavity_se     False        3\n",
      "17        concave points_se     False        9\n",
      "18              symmetry_se     False        7\n",
      "19     fractal_dimension_se     False       13\n",
      "20             radius_worst      True        1\n",
      "21            texture_worst      True        1\n",
      "22          perimeter_worst     False        5\n",
      "23               area_worst     False       10\n",
      "24         smoothness_worst      True        1\n",
      "25        compactness_worst     False        8\n",
      "26          concavity_worst      True        1\n",
      "27     concave points_worst      True        1\n",
      "28           symmetry_worst      True        1\n",
      "29  fractal_dimension_worst      True        1\n"
     ]
    },
    {
     "name": "stderr",
     "output_type": "stream",
     "text": [
      "/Users/BekkBlando/Documents/github/wisconsin_data/.direnv/python-3.6.5/lib/python3.6/site-packages/sklearn/utils/validation.py:578: DataConversionWarning: A column-vector y was passed when a 1d array was expected. Please change the shape of y to (n_samples, ), for example using ravel().\n",
      "  y = column_or_1d(y, warn=True)\n"
     ]
    }
   ],
   "source": [
    "# Get Logistic Regression Feature Selection for the Polynomail kernal\n",
    "X_train, X_test, y_train, y_test = get_train_test_data(linear_model.LogisticRegression())"
   ]
  },
  {
   "cell_type": "code",
   "execution_count": null,
   "metadata": {},
   "outputs": [
    {
     "name": "stdout",
     "output_type": "stream",
     "text": [
      "Accuracy = 97.07602339181287%\n",
      "Accuracy of SVCclassifier on test set: 0.97\n",
      "[[103   5]\n",
      " [  0  63]]\n"
     ]
    }
   ],
   "source": [
    "# SVM Time - Polynomial Kernal\n",
    "svc_poly = svm.SVC(kernel='poly', probability=True)\n",
    "svc_poly.fit(X_train, y_train)\n",
    "print_accuracy(svc_poly.predict)\n",
    "\n",
    "gen_confusion(svc_poly, X_test)\n",
    "gen_kfold(svm.SVC(kernel='poly', probability=True), X_train, y_train, \"Polynomial Kernal\")\n",
    "\n",
    "# TODO Generate these graphs\n",
    "# shap_values = shap.KernelExplainer(svc_linear.predict_proba, X_train).shap_values(X_test)\n",
    "# shap.force_plot(shap_values[0], X_test)"
   ]
  },
  {
   "cell_type": "code",
   "execution_count": 56,
   "metadata": {},
   "outputs": [
    {
     "name": "stdout",
     "output_type": "stream",
     "text": [
      "Accuracy = 97.6608187134503%\n",
      "Accuracy of SVCclassifier on test set: 0.98\n",
      "[[105   3]\n",
      " [  1  62]]\n",
      "10-fold cross validation average accuracy: 0.965\n"
     ]
    }
   ],
   "source": [
    "# SVM Time - Linear Kernal\n",
    "svc_linear = svm.SVC(kernel='linear', probability=True)\n",
    "svc_linear.fit(X_train, y_train)\n",
    "print_accuracy(svc_linear.predict)\n",
    "\n",
    "\n",
    "gen_confusion(svc_linear, X_test)\n",
    "gen_kfold(svm.SVC(kernel='linear', probability=True), X_train, y_train, \"Linear Kernal\")\n",
    "\n",
    "# TODO Generate these graphs\n",
    "# shap_values = shap.KernelExplainer(svc_linear.predict_proba, X_train).shap_values(X_test)\n",
    "# shap.force_plot(shap_values[0], X_test)"
   ]
  },
  {
   "cell_type": "code",
   "execution_count": 57,
   "metadata": {},
   "outputs": [
    {
     "name": "stderr",
     "output_type": "stream",
     "text": [
      "/Users/BekkBlando/Documents/github/wisconsin_data/.direnv/python-3.6.5/lib/python3.6/site-packages/sklearn/utils/validation.py:578: DataConversionWarning: A column-vector y was passed when a 1d array was expected. Please change the shape of y to (n_samples, ), for example using ravel().\n",
      "  y = column_or_1d(y, warn=True)\n"
     ]
    },
    {
     "name": "stdout",
     "output_type": "stream",
     "text": [
      "[('radius_mean', 1, True), ('texture_mean', 1, True), ('perimeter_mean', 1, True), ('area_mean', 1, True), ('smoothness_mean', 3, False), ('compactness_mean', 8, False), ('concavity_mean', 1, True), ('concave points_mean', 1, True), ('symmetry_mean', 14, False), ('fractal_dimension_mean', 16, False), ('radius_se', 7, False), ('texture_se', 10, False), ('perimeter_se', 4, False), ('area_se', 1, True), ('smoothness_se', 13, False), ('compactness_se', 12, False), ('concavity_se', 9, False), ('concave points_se', 11, False), ('symmetry_se', 15, False), ('fractal_dimension_se', 6, False), ('radius_worst', 1, True), ('texture_worst', 1, True), ('perimeter_worst', 1, True), ('area_worst', 1, True), ('smoothness_worst', 1, True), ('compactness_worst', 2, False), ('concavity_worst', 1, True), ('concave points_worst', 1, True), ('symmetry_worst', 1, True), ('fractal_dimension_worst', 5, False)]\n",
      "RandomForestClassifier(bootstrap=True, class_weight=None, criterion='gini',\n",
      "            max_depth=None, max_features='auto', max_leaf_nodes=None,\n",
      "            min_impurity_decrease=0.0, min_impurity_split=None,\n",
      "            min_samples_leaf=1, min_samples_split=2,\n",
      "            min_weight_fraction_leaf=0.0, n_estimators=100, n_jobs=1,\n",
      "            oob_score=False, random_state=0, verbose=0, warm_start=False)\n",
      "                    Feature  Included  Ranking\n",
      "0               radius_mean      True        1\n",
      "1              texture_mean      True        1\n",
      "2            perimeter_mean      True        1\n",
      "3                 area_mean      True        1\n",
      "4           smoothness_mean     False        3\n",
      "5          compactness_mean     False        8\n",
      "6            concavity_mean      True        1\n",
      "7       concave points_mean      True        1\n",
      "8             symmetry_mean     False       14\n",
      "9    fractal_dimension_mean     False       16\n",
      "10                radius_se     False        7\n",
      "11               texture_se     False       10\n",
      "12             perimeter_se     False        4\n",
      "13                  area_se      True        1\n",
      "14            smoothness_se     False       13\n",
      "15           compactness_se     False       12\n",
      "16             concavity_se     False        9\n",
      "17        concave points_se     False       11\n",
      "18              symmetry_se     False       15\n",
      "19     fractal_dimension_se     False        6\n",
      "20             radius_worst      True        1\n",
      "21            texture_worst      True        1\n",
      "22          perimeter_worst      True        1\n",
      "23               area_worst      True        1\n",
      "24         smoothness_worst      True        1\n",
      "25        compactness_worst     False        2\n",
      "26          concavity_worst      True        1\n",
      "27     concave points_worst      True        1\n",
      "28           symmetry_worst      True        1\n",
      "29  fractal_dimension_worst     False        5\n",
      "Accuracy = 97.07602339181287%\n",
      "Accuracy of RandomForestClassifierclassifier on test set: 0.97\n",
      "[[105   3]\n",
      " [  2  61]]\n",
      "10-fold cross validation average accuracy: 0.962\n",
      "[]\n"
     ]
    },
    {
     "data": {
      "image/png": "[encoded data removed]",
      "text/plain": [
       "<Figure size 432x288 with 1 Axes>"
      ]
     },
     "metadata": {},
     "output_type": "display_data"
    },
    {
     "data": {
      "text/plain": [
       "<Figure size 6400x4800 with 0 Axes>"
      ]
     },
     "metadata": {},
     "output_type": "display_data"
    }
   ],
   "source": [
    "# Random Forest Time\n",
    "from sklearn.ensemble import RandomForestClassifier\n",
    "X_train, X_test, y_train, y_test = get_train_test_data(RandomForestClassifier(n_estimators=100, max_depth=None, min_samples_split=2, random_state=0))\n",
    "rforest = RandomForestClassifier(n_estimators=100, max_depth=None, min_samples_split=2, random_state=0)\n",
    "rforest.fit(X_train, y_train)\n",
    "print_accuracy(rforest.predict)\n",
    "\n",
    "gen_confusion(rforest, X_test)\n",
    "gen_kfold(RandomForestClassifier(n_estimators=100, max_depth=None, min_samples_split=2, random_state=0), X_train, y_train)\n",
    "\n",
    "# TODO Generate these graphs\n",
    "# shap_values = shap.KernelExplainer(rforest.predict_proba, X_train).shap_values(X_test)\n",
    "# shap.force_plot(shap_values[0], X_test)\n",
    "plot_coef_feature(rforest.feature_importances_)"
   ]
  },
  {
   "cell_type": "code",
   "execution_count": 58,
   "metadata": {},
   "outputs": [
    {
     "name": "stderr",
     "output_type": "stream",
     "text": [
      "/Users/BekkBlando/Documents/github/wisconsin_data/.direnv/python-3.6.5/lib/python3.6/site-packages/sklearn/utils/validation.py:578: DataConversionWarning: A column-vector y was passed when a 1d array was expected. Please change the shape of y to (n_samples, ), for example using ravel().\n",
      "  y = column_or_1d(y, warn=True)\n"
     ]
    },
    {
     "name": "stdout",
     "output_type": "stream",
     "text": [
      "[('radius_mean', 16, False), ('texture_mean', 13, False), ('perimeter_mean', 12, False), ('area_mean', 11, False), ('smoothness_mean', 10, False), ('compactness_mean', 9, False), ('concavity_mean', 8, False), ('concave points_mean', 1, True), ('symmetry_mean', 5, False), ('fractal_dimension_mean', 2, False), ('radius_se', 1, True), ('texture_se', 1, True), ('perimeter_se', 1, True), ('area_se', 1, True), ('smoothness_se', 1, True), ('compactness_se', 15, False), ('concavity_se', 1, True), ('concave points_se', 4, False), ('symmetry_se', 7, False), ('fractal_dimension_se', 3, False), ('radius_worst', 1, True), ('texture_worst', 1, True), ('perimeter_worst', 14, False), ('area_worst', 1, True), ('smoothness_worst', 1, True), ('compactness_worst', 1, True), ('concavity_worst', 1, True), ('concave points_worst', 1, True), ('symmetry_worst', 1, True), ('fractal_dimension_worst', 6, False)]\n",
      "DecisionTreeClassifier(class_weight=None, criterion='gini', max_depth=None,\n",
      "            max_features=None, max_leaf_nodes=None,\n",
      "            min_impurity_decrease=0.0, min_impurity_split=None,\n",
      "            min_samples_leaf=1, min_samples_split=2,\n",
      "            min_weight_fraction_leaf=0.0, presort=False, random_state=None,\n",
      "            splitter='best')\n",
      "                    Feature  Included  Ranking\n",
      "0               radius_mean     False       16\n",
      "1              texture_mean     False       13\n",
      "2            perimeter_mean     False       12\n",
      "3                 area_mean     False       11\n",
      "4           smoothness_mean     False       10\n",
      "5          compactness_mean     False        9\n",
      "6            concavity_mean     False        8\n",
      "7       concave points_mean      True        1\n",
      "8             symmetry_mean     False        5\n",
      "9    fractal_dimension_mean     False        2\n",
      "10                radius_se      True        1\n",
      "11               texture_se      True        1\n",
      "12             perimeter_se      True        1\n",
      "13                  area_se      True        1\n",
      "14            smoothness_se      True        1\n",
      "15           compactness_se     False       15\n",
      "16             concavity_se      True        1\n",
      "17        concave points_se     False        4\n",
      "18              symmetry_se     False        7\n",
      "19     fractal_dimension_se     False        3\n",
      "20             radius_worst      True        1\n",
      "21            texture_worst      True        1\n",
      "22          perimeter_worst     False       14\n",
      "23               area_worst      True        1\n",
      "24         smoothness_worst      True        1\n",
      "25        compactness_worst      True        1\n",
      "26          concavity_worst      True        1\n",
      "27     concave points_worst      True        1\n",
      "28           symmetry_worst      True        1\n",
      "29  fractal_dimension_worst     False        6\n",
      "Accuracy = 91.81286549707602%\n",
      "Accuracy of DecisionTreeClassifierclassifier on test set: 0.92\n",
      "[[99  9]\n",
      " [ 5 58]]\n",
      "10-fold cross validation average accuracy: 0.922\n",
      "[]\n"
     ]
    },
    {
     "data": {
      "image/png": "[encoded data removed]",
      "text/plain": [
       "<Figure size 432x288 with 1 Axes>"
      ]
     },
     "metadata": {},
     "output_type": "display_data"
    },
    {
     "data": {
      "text/plain": [
       "<Figure size 6400x4800 with 0 Axes>"
      ]
     },
     "metadata": {},
     "output_type": "display_data"
    }
   ],
   "source": [
    "# Decision Tree Time\n",
    "X_train, X_test, y_train, y_test = get_train_test_data(tree.DecisionTreeClassifier(min_samples_split=2))\n",
    "dtree = tree.DecisionTreeClassifier(min_samples_split=2)\n",
    "dtree.fit(X_train, y_train)\n",
    "print_accuracy(dtree.predict)\n",
    "\n",
    "gen_confusion(dtree, X_test)\n",
    "gen_kfold(tree.DecisionTreeClassifier(min_samples_split=2), X_train, y_train)\n",
    "\n",
    "\n",
    "# TODO Generate these graphs\n",
    "# shap_values = shap.KernelExplainer(dtree.predict_proba, X_train).shap_values(X_test)\n",
    "# shap.force_plot(shap_values[0], X_test)\n",
    "plot_coef_feature(dtree.feature_importances_)"
   ]
  },
  {
   "cell_type": "code",
   "execution_count": 59,
   "metadata": {},
   "outputs": [
    {
     "name": "stdout",
     "output_type": "stream",
     "text": [
      "Accuracy = 84.7953216374269%\n",
      "Accuracy of MLPClassifierclassifier on test set: 0.85\n",
      "[[83 25]\n",
      " [ 1 62]]\n",
      "10-fold cross validation average accuracy: 0.925\n"
     ]
    }
   ],
   "source": [
    "# Simple Neural Net\n",
    "from sklearn.neural_network import MLPClassifier\n",
    "nn = MLPClassifier(solver='lbfgs', alpha=1e-1, hidden_layer_sizes=(5, 2), random_state=0)\n",
    "nn.fit(X_train, y_train)\n",
    "print_accuracy(nn.predict)\n",
    "\n",
    "gen_confusion(nn, X_test)\n",
    "gen_kfold(MLPClassifier(solver='lbfgs', alpha=1e-1, hidden_layer_sizes=(5, 2), random_state=0), X_train, y_train)\n",
    "\n",
    "# explain all the predictions in the test set\n",
    "# shap_values = shap.KernelExplainer(nn.predict_proba, X_train).shap_values(X_test)\n",
    "# shap.force_plot(shap_values[0], X_test)"
   ]
  },
  {
   "cell_type": "code",
   "execution_count": 60,
   "metadata": {},
   "outputs": [
    {
     "name": "stdout",
     "output_type": "stream",
     "text": [
      "Accuracy = 92.39766081871345%\n",
      "Accuracy of GaussianNBclassifier on test set: 0.92\n",
      "[[101   7]\n",
      " [  6  57]]\n",
      "10-fold cross validation average accuracy: 0.947\n"
     ]
    }
   ],
   "source": [
    "# Naive Bayes\n",
    "from sklearn.naive_bayes import GaussianNB\n",
    "gnb = GaussianNB()\n",
    "gnb.fit(X_train, y_train)\n",
    "print_accuracy(gnb.predict)\n",
    "\n",
    "gen_confusion(gnb, X_test)\n",
    "gen_kfold(GaussianNB(), X_train, y_train)\n",
    "# shap_values = shap.KernelExplainer(gnb.predict_proba, X_train).shap_values(X_test)\n",
    "# shap.force_plot(shap_values[0], X_test)"
   ]
  },
  {
   "cell_type": "code",
   "execution_count": 61,
   "metadata": {},
   "outputs": [
    {
     "name": "stdout",
     "output_type": "stream",
     "text": [
      "[('radius_mean', 1, True), ('texture_mean', 1, True), ('perimeter_mean', 1, True), ('area_mean', 1, True), ('smoothness_mean', 2, False), ('compactness_mean', 10, False), ('concavity_mean', 1, True), ('concave points_mean', 5, False), ('symmetry_mean', 1, True), ('fractal_dimension_mean', 7, False), ('radius_se', 9, False), ('texture_se', 1, True), ('perimeter_se', 6, False), ('area_se', 1, True), ('smoothness_se', 12, False), ('compactness_se', 13, False), ('concavity_se', 14, False), ('concave points_se', 15, False), ('symmetry_se', 11, False), ('fractal_dimension_se', 16, False), ('radius_worst', 1, True), ('texture_worst', 1, True), ('perimeter_worst', 1, True), ('area_worst', 1, True), ('smoothness_worst', 1, True), ('compactness_worst', 3, False), ('concavity_worst', 1, True), ('concave points_worst', 4, False), ('symmetry_worst', 1, True), ('fractal_dimension_worst', 8, False)]\n",
      "SGDClassifier(alpha=0.0001, average=False, class_weight=None, epsilon=0.1,\n",
      "       eta0=0.0, fit_intercept=True, l1_ratio=0.15,\n",
      "       learning_rate='optimal', loss='hinge', max_iter=30, n_iter=None,\n",
      "       n_jobs=1, penalty='l2', power_t=0.5, random_state=None,\n",
      "       shuffle=True, tol=0.001, verbose=0, warm_start=False)\n",
      "                    Feature  Included  Ranking\n",
      "0               radius_mean      True        1\n",
      "1              texture_mean      True        1\n",
      "2            perimeter_mean      True        1\n",
      "3                 area_mean      True        1\n",
      "4           smoothness_mean     False        2\n",
      "5          compactness_mean     False       10\n",
      "6            concavity_mean      True        1\n",
      "7       concave points_mean     False        5\n",
      "8             symmetry_mean      True        1\n",
      "9    fractal_dimension_mean     False        7\n",
      "10                radius_se     False        9\n",
      "11               texture_se      True        1\n",
      "12             perimeter_se     False        6\n",
      "13                  area_se      True        1\n",
      "14            smoothness_se     False       12\n",
      "15           compactness_se     False       13\n",
      "16             concavity_se     False       14\n",
      "17        concave points_se     False       15\n",
      "18              symmetry_se     False       11\n",
      "19     fractal_dimension_se     False       16\n",
      "20             radius_worst      True        1\n",
      "21            texture_worst      True        1\n",
      "22          perimeter_worst      True        1\n",
      "23               area_worst      True        1\n",
      "24         smoothness_worst      True        1\n",
      "25        compactness_worst     False        3\n",
      "26          concavity_worst      True        1\n",
      "27     concave points_worst     False        4\n",
      "28           symmetry_worst      True        1\n",
      "29  fractal_dimension_worst     False        8\n",
      "Accuracy = 92.98245614035088%\n"
     ]
    },
    {
     "name": "stderr",
     "output_type": "stream",
     "text": [
      "/Users/BekkBlando/Documents/github/wisconsin_data/.direnv/python-3.6.5/lib/python3.6/site-packages/sklearn/utils/validation.py:578: DataConversionWarning: A column-vector y was passed when a 1d array was expected. Please change the shape of y to (n_samples, ), for example using ravel().\n",
      "  y = column_or_1d(y, warn=True)\n"
     ]
    },
    {
     "name": "stdout",
     "output_type": "stream",
     "text": [
      "Accuracy of SGDClassifierclassifier on test set: 0.93\n",
      "[[104   4]\n",
      " [  8  55]]\n",
      "10-fold cross validation average accuracy: 0.777\n",
      "[]\n"
     ]
    },
    {
     "data": {
      "image/png": "[encoded data removed]",
      "text/plain": [
       "<Figure size 432x288 with 1 Axes>"
      ]
     },
     "metadata": {},
     "output_type": "display_data"
    },
    {
     "data": {
      "text/plain": [
       "<Figure size 6400x4800 with 0 Axes>"
      ]
     },
     "metadata": {},
     "output_type": "display_data"
    }
   ],
   "source": [
    "# SGD Classifier\n",
    "X_train, X_test, y_train, y_test = get_train_test_data(linear_model.SGDClassifier(max_iter=30, tol=1e-3))\n",
    "clf = linear_model.SGDClassifier(max_iter=30, tol=1e-3)\n",
    "clf.fit(X_train, y_train)\n",
    "\n",
    "print_accuracy(clf.predict)\n",
    "\n",
    "gen_confusion(clf, X_test)\n",
    "gen_kfold(linear_model.SGDClassifier(max_iter=100, tol=1e-3), X_train, y_train)\n",
    "plot_coef_feature(clf.coef_[0])"
   ]
  },
  {
   "cell_type": "code",
   "execution_count": 62,
   "metadata": {
    "scrolled": false
   },
   "outputs": [
    {
     "name": "stderr",
     "output_type": "stream",
     "text": [
      "/Users/BekkBlando/Documents/github/wisconsin_data/.direnv/python-3.6.5/lib/python3.6/site-packages/sklearn/utils/validation.py:578: DataConversionWarning: A column-vector y was passed when a 1d array was expected. Please change the shape of y to (n_samples, ), for example using ravel().\n",
      "  y = column_or_1d(y, warn=True)\n"
     ]
    },
    {
     "name": "stdout",
     "output_type": "stream",
     "text": [
      "[('radius_mean', 1, True), ('texture_mean', 1, True), ('perimeter_mean', 1, True), ('area_mean', 1, True), ('smoothness_mean', 2, False), ('compactness_mean', 16, False), ('concavity_mean', 1, True), ('concave points_mean', 6, False), ('symmetry_mean', 1, True), ('fractal_dimension_mean', 4, False), ('radius_se', 10, False), ('texture_se', 1, True), ('perimeter_se', 8, False), ('area_se', 1, True), ('smoothness_se', 12, False), ('compactness_se', 15, False), ('concavity_se', 11, False), ('concave points_se', 14, False), ('symmetry_se', 9, False), ('fractal_dimension_se', 13, False), ('radius_worst', 1, True), ('texture_worst', 1, True), ('perimeter_worst', 1, True), ('area_worst', 1, True), ('smoothness_worst', 1, True), ('compactness_worst', 3, False), ('concavity_worst', 1, True), ('concave points_worst', 7, False), ('symmetry_worst', 1, True), ('fractal_dimension_worst', 5, False)]\n",
      "SGDClassifier(alpha=0.0001, average=False, class_weight=None, epsilon=0.1,\n",
      "       eta0=1, fit_intercept=True, l1_ratio=0.15, learning_rate='constant',\n",
      "       loss='perceptron', max_iter=10, n_iter=None, n_jobs=1, penalty=None,\n",
      "       power_t=0.5, random_state=None, shuffle=True, tol=0.001, verbose=0,\n",
      "       warm_start=False)\n",
      "                    Feature  Included  Ranking\n",
      "0               radius_mean      True        1\n",
      "1              texture_mean      True        1\n",
      "2            perimeter_mean      True        1\n",
      "3                 area_mean      True        1\n",
      "4           smoothness_mean     False        2\n",
      "5          compactness_mean     False       16\n",
      "6            concavity_mean      True        1\n",
      "7       concave points_mean     False        6\n",
      "8             symmetry_mean      True        1\n",
      "9    fractal_dimension_mean     False        4\n",
      "10                radius_se     False       10\n",
      "11               texture_se      True        1\n",
      "12             perimeter_se     False        8\n",
      "13                  area_se      True        1\n",
      "14            smoothness_se     False       12\n",
      "15           compactness_se     False       15\n",
      "16             concavity_se     False       11\n",
      "17        concave points_se     False       14\n",
      "18              symmetry_se     False        9\n",
      "19     fractal_dimension_se     False       13\n",
      "20             radius_worst      True        1\n",
      "21            texture_worst      True        1\n",
      "22          perimeter_worst      True        1\n",
      "23               area_worst      True        1\n",
      "24         smoothness_worst      True        1\n",
      "25        compactness_worst     False        3\n",
      "26          concavity_worst      True        1\n",
      "27     concave points_worst     False        7\n",
      "28           symmetry_worst      True        1\n",
      "29  fractal_dimension_worst     False        5\n",
      "Accuracy = 78.3625730994152%\n",
      "Accuracy of SGDClassifierclassifier on test set: 0.78\n",
      "[[75 33]\n",
      " [ 4 59]]\n",
      "10-fold cross validation average accuracy: 0.784\n",
      "[]\n"
     ]
    },
    {
     "data": {
      "image/png": "[encoded data removed]",
      "text/plain": [
       "<Figure size 432x288 with 1 Axes>"
      ]
     },
     "metadata": {},
     "output_type": "display_data"
    },
    {
     "data": {
      "text/plain": [
       "<Figure size 6400x4800 with 0 Axes>"
      ]
     },
     "metadata": {},
     "output_type": "display_data"
    }
   ],
   "source": [
    "# Perceptron\n",
    "iteration = 10\n",
    "X_train, X_test, y_train, y_test = get_train_test_data(linear_model.SGDClassifier(loss=\"perceptron\", eta0=1, learning_rate=\"constant\", penalty=None, max_iter=iteration, tol=1e-3))\n",
    "clf = linear_model.SGDClassifier(loss=\"perceptron\", eta0=1, learning_rate=\"constant\", penalty=None, max_iter=iteration, tol=1e-3)\n",
    "clf.fit(X_train, y_train)\n",
    "\n",
    "print_accuracy(clf.predict)\n",
    "\n",
    "gen_confusion(clf, X_test)\n",
    "gen_kfold(linear_model.SGDClassifier(loss=\"perceptron\", eta0=1, learning_rate=\"constant\", penalty=None, max_iter=iteration, tol=1e-3), X_train, y_train)\n",
    "plot_coef_feature(clf.coef_[0])"
   ]
  },
  {
   "cell_type": "code",
   "execution_count": 63,
   "metadata": {},
   "outputs": [
    {
     "name": "stdout",
     "output_type": "stream",
     "text": [
      "Computing regularization path using the LARS ...\n",
      "."
     ]
    },
    {
     "data": {
      "image/png": "[encoded data removed]",
      "text/plain": [
       "<Figure size 432x288 with 1 Axes>"
      ]
     },
     "metadata": {},
     "output_type": "display_data"
    }
   ],
   "source": [
    "\n",
    "print(\"Computing regularization path using the LARS ...\")\n",
    "alphas, _, coefs = linear_model.lars_path(X_train.as_matrix(), y_train, method='lasso', verbose=True)\n",
    "\n",
    "xx = np.sum(np.abs(coefs.T), axis=1)\n",
    "xx /= xx[-1]\n",
    "\n",
    "plt.plot(xx, coefs.T)\n",
    "ymin, ymax = plt.ylim()\n",
    "plt.vlines(xx, ymin, ymax, linestyle='dashed')\n",
    "plt.xlabel('|coef| / max|coef|')\n",
    "plt.ylabel('Coefficients')\n",
    "plt.title('LASSO Path')\n",
    "plt.axis('tight')\n",
    "plt.show()"
   ]
  },
  {
   "cell_type": "code",
   "execution_count": 64,
   "metadata": {},
   "outputs": [
    {
     "name": "stderr",
     "output_type": "stream",
     "text": [
      "/Users/BekkBlando/Documents/github/wisconsin_data/.direnv/python-3.6.5/lib/python3.6/site-packages/sklearn/utils/validation.py:578: DataConversionWarning: A column-vector y was passed when a 1d array was expected. Please change the shape of y to (n_samples, ), for example using ravel().\n",
      "  y = column_or_1d(y, warn=True)\n"
     ]
    },
    {
     "name": "stdout",
     "output_type": "stream",
     "text": [
      "[('radius_mean', 1, True), ('texture_mean', 2, False), ('perimeter_mean', 1, True), ('area_mean', 14, False), ('smoothness_mean', 1, True), ('compactness_mean', 6, False), ('concavity_mean', 1, True), ('concave points_mean', 1, True), ('symmetry_mean', 1, True), ('fractal_dimension_mean', 1, True), ('radius_se', 11, False), ('texture_se', 1, True), ('perimeter_se', 15, False), ('area_se', 4, False), ('smoothness_se', 12, False), ('compactness_se', 16, False), ('concavity_se', 3, False), ('concave points_se', 9, False), ('symmetry_se', 7, False), ('fractal_dimension_se', 13, False), ('radius_worst', 1, True), ('texture_worst', 1, True), ('perimeter_worst', 5, False), ('area_worst', 10, False), ('smoothness_worst', 1, True), ('compactness_worst', 8, False), ('concavity_worst', 1, True), ('concave points_worst', 1, True), ('symmetry_worst', 1, True), ('fractal_dimension_worst', 1, True)]\n",
      "LogisticRegression(C=1.0, class_weight=None, dual=False, fit_intercept=True,\n",
      "          intercept_scaling=1, max_iter=100, multi_class='ovr', n_jobs=1,\n",
      "          penalty='l2', random_state=None, solver='liblinear', tol=0.0001,\n",
      "          verbose=0, warm_start=False)\n",
      "                    Feature  Included  Ranking\n",
      "0               radius_mean      True        1\n",
      "1              texture_mean     False        2\n",
      "2            perimeter_mean      True        1\n",
      "3                 area_mean     False       14\n",
      "4           smoothness_mean      True        1\n",
      "5          compactness_mean     False        6\n",
      "6            concavity_mean      True        1\n",
      "7       concave points_mean      True        1\n",
      "8             symmetry_mean      True        1\n",
      "9    fractal_dimension_mean      True        1\n",
      "10                radius_se     False       11\n",
      "11               texture_se      True        1\n",
      "12             perimeter_se     False       15\n",
      "13                  area_se     False        4\n",
      "14            smoothness_se     False       12\n",
      "15           compactness_se     False       16\n",
      "16             concavity_se     False        3\n",
      "17        concave points_se     False        9\n",
      "18              symmetry_se     False        7\n",
      "19     fractal_dimension_se     False       13\n",
      "20             radius_worst      True        1\n",
      "21            texture_worst      True        1\n",
      "22          perimeter_worst     False        5\n",
      "23               area_worst     False       10\n",
      "24         smoothness_worst      True        1\n",
      "25        compactness_worst     False        8\n",
      "26          concavity_worst      True        1\n",
      "27     concave points_worst      True        1\n",
      "28           symmetry_worst      True        1\n",
      "29  fractal_dimension_worst      True        1\n",
      "Accuracy = 64.91228070175438%\n",
      "Accuracy of RadiusNeighborsClassifierclassifier on test set: 0.65\n",
      "[[108   0]\n",
      " [ 60   3]]\n",
      "10-fold cross validation average accuracy: 0.658\n"
     ]
    }
   ],
   "source": [
    "# Radius Neighbors Classifier\n",
    "radius = 70\n",
    "X_train, X_test, y_train, y_test = get_train_test_data(linear_model.LogisticRegression())\n",
    "rnc = neighbors.RadiusNeighborsClassifier(radius = radius)\n",
    "rnc.fit(X_train, y_train)\n",
    "\n",
    "print_accuracy(rnc.predict)\n",
    "\n",
    "gen_confusion(rnc, X_test)\n",
    "gen_kfold(neighbors.RadiusNeighborsClassifier(radius = radius), X_train, y_train)"
   ]
  },
  {
   "cell_type": "code",
   "execution_count": 65,
   "metadata": {},
   "outputs": [
    {
     "name": "stdout",
     "output_type": "stream",
     "text": [
      "Accuracy = 92.39766081871345%\n",
      "Accuracy of NearestCentroidclassifier on test set: 0.92\n",
      "[[104   4]\n",
      " [  9  54]]\n",
      "10-fold cross validation average accuracy: 0.887\n"
     ]
    }
   ],
   "source": [
    "# Neartest Shrunken Centroid\n",
    "clf = neighbors.NearestCentroid(shrink_threshold=.1)\n",
    "clf.fit(X_train, y_train)\n",
    "\n",
    "print_accuracy(clf.predict)\n",
    "\n",
    "gen_confusion(clf, X_test)\n",
    "gen_kfold(neighbors.NearestCentroid(shrink_threshold=.1), X_train, y_train)"
   ]
  },
  {
   "cell_type": "code",
   "execution_count": 66,
   "metadata": {},
   "outputs": [
    {
     "name": "stdout",
     "output_type": "stream",
     "text": [
      "Accuracy = 95.32163742690058%\n",
      "Accuracy of GaussianProcessClassifierclassifier on test set: 0.95\n",
      "[[102   6]\n",
      " [  2  61]]\n",
      "10-fold cross validation average accuracy: 0.900\n"
     ]
    }
   ],
   "source": [
    "# Gaussian Process Classifier - 1.0 * RBF(1.0)\n",
    "gausc = gaussian_process.GaussianProcessClassifier()\n",
    "gausc.fit(X_train, y_train)\n",
    "\n",
    "print_accuracy(gausc.predict)\n",
    "\n",
    "gen_confusion(gausc, X_test)\n",
    "gen_kfold(gaussian_process.GaussianProcessClassifier(), X_train, y_train)"
   ]
  },
  {
   "cell_type": "code",
   "execution_count": 67,
   "metadata": {},
   "outputs": [
    {
     "name": "stdout",
     "output_type": "stream",
     "text": [
      "[('radius_mean', 7, False), ('texture_mean', 14, False), ('perimeter_mean', 8, False), ('area_mean', 16, False), ('smoothness_mean', 1, True), ('compactness_mean', 1, True), ('concavity_mean', 2, False), ('concave points_mean', 1, True), ('symmetry_mean', 1, True), ('fractal_dimension_mean', 1, True), ('radius_se', 1, True), ('texture_se', 11, False), ('perimeter_se', 4, False), ('area_se', 13, False), ('smoothness_se', 1, True), ('compactness_se', 1, True), ('concavity_se', 1, True), ('concave points_se', 1, True), ('symmetry_se', 3, False), ('fractal_dimension_se', 6, False), ('radius_worst', 5, False), ('texture_worst', 10, False), ('perimeter_worst', 12, False), ('area_worst', 15, False), ('smoothness_worst', 1, True), ('compactness_worst', 9, False), ('concavity_worst', 1, True), ('concave points_worst', 1, True), ('symmetry_worst', 1, True), ('fractal_dimension_worst', 1, True)]\n",
      "LinearDiscriminantAnalysis(n_components=None, priors=None, shrinkage=None,\n",
      "              solver='svd', store_covariance=False, tol=0.0001)\n",
      "                    Feature  Included  Ranking\n",
      "0               radius_mean     False        7\n",
      "1              texture_mean     False       14\n",
      "2            perimeter_mean     False        8\n",
      "3                 area_mean     False       16\n",
      "4           smoothness_mean      True        1\n",
      "5          compactness_mean      True        1\n",
      "6            concavity_mean     False        2\n",
      "7       concave points_mean      True        1\n",
      "8             symmetry_mean      True        1\n",
      "9    fractal_dimension_mean      True        1\n",
      "10                radius_se      True        1\n",
      "11               texture_se     False       11\n",
      "12             perimeter_se     False        4\n",
      "13                  area_se     False       13\n",
      "14            smoothness_se      True        1\n",
      "15           compactness_se      True        1\n",
      "16             concavity_se      True        1\n",
      "17        concave points_se      True        1\n",
      "18              symmetry_se     False        3\n",
      "19     fractal_dimension_se     False        6\n",
      "20             radius_worst     False        5\n",
      "21            texture_worst     False       10\n",
      "22          perimeter_worst     False       12\n",
      "23               area_worst     False       15\n",
      "24         smoothness_worst      True        1\n",
      "25        compactness_worst     False        9\n",
      "26          concavity_worst      True        1\n",
      "27     concave points_worst      True        1\n",
      "28           symmetry_worst      True        1\n",
      "29  fractal_dimension_worst      True        1\n",
      "Accuracy = 92.98245614035088%\n"
     ]
    },
    {
     "name": "stderr",
     "output_type": "stream",
     "text": [
      "/Users/BekkBlando/Documents/github/wisconsin_data/.direnv/python-3.6.5/lib/python3.6/site-packages/sklearn/utils/validation.py:578: DataConversionWarning: A column-vector y was passed when a 1d array was expected. Please change the shape of y to (n_samples, ), for example using ravel().\n",
      "  y = column_or_1d(y, warn=True)\n"
     ]
    },
    {
     "name": "stdout",
     "output_type": "stream",
     "text": [
      "Accuracy of LinearDiscriminantAnalysisclassifier on test set: 0.93\n",
      "[[107   1]\n",
      " [ 11  52]]\n",
      "10-fold cross validation average accuracy: 0.947\n",
      "[]\n"
     ]
    },
    {
     "data": {
      "image/png": "[encoded data removed]",
      "text/plain": [
       "<Figure size 432x288 with 1 Axes>"
      ]
     },
     "metadata": {},
     "output_type": "display_data"
    },
    {
     "data": {
      "text/plain": [
       "<Figure size 6400x4800 with 0 Axes>"
      ]
     },
     "metadata": {},
     "output_type": "display_data"
    }
   ],
   "source": [
    "from sklearn.discriminant_analysis import LinearDiscriminantAnalysis\n",
    "# Linear Discriminant Analysis\n",
    "X_train, X_test, y_train, y_test = get_train_test_data(LinearDiscriminantAnalysis())\n",
    "lda = LinearDiscriminantAnalysis()\n",
    "lda.fit(X_train, y_train)\n",
    "\n",
    "print_accuracy(lda.predict)\n",
    "\n",
    "gen_confusion(lda, X_test)\n",
    "gen_kfold(LinearDiscriminantAnalysis(), X_train, y_train)\n",
    "plot_coef_feature(lda.coef_[0])"
   ]
  },
  {
   "cell_type": "code",
   "execution_count": 68,
   "metadata": {},
   "outputs": [
    {
     "name": "stderr",
     "output_type": "stream",
     "text": [
      "/Users/BekkBlando/Documents/github/wisconsin_data/.direnv/python-3.6.5/lib/python3.6/site-packages/sklearn/utils/validation.py:578: DataConversionWarning: A column-vector y was passed when a 1d array was expected. Please change the shape of y to (n_samples, ), for example using ravel().\n",
      "  y = column_or_1d(y, warn=True)\n"
     ]
    },
    {
     "name": "stdout",
     "output_type": "stream",
     "text": [
      "[('radius_mean', 1, True), ('texture_mean', 1, True), ('perimeter_mean', 1, True), ('area_mean', 1, True), ('smoothness_mean', 4, False), ('compactness_mean', 16, False), ('concavity_mean', 1, True), ('concave points_mean', 1, True), ('symmetry_mean', 11, False), ('fractal_dimension_mean', 8, False), ('radius_se', 5, False), ('texture_se', 10, False), ('perimeter_se', 7, False), ('area_se', 1, True), ('smoothness_se', 13, False), ('compactness_se', 15, False), ('concavity_se', 12, False), ('concave points_se', 6, False), ('symmetry_se', 9, False), ('fractal_dimension_se', 14, False), ('radius_worst', 1, True), ('texture_worst', 1, True), ('perimeter_worst', 1, True), ('area_worst', 1, True), ('smoothness_worst', 1, True), ('compactness_worst', 2, False), ('concavity_worst', 1, True), ('concave points_worst', 1, True), ('symmetry_worst', 3, False), ('fractal_dimension_worst', 1, True)]\n",
      "ExtraTreesClassifier(bootstrap=False, class_weight=None, criterion='gini',\n",
      "           max_depth=None, max_features='auto', max_leaf_nodes=None,\n",
      "           min_impurity_decrease=0.0, min_impurity_split=None,\n",
      "           min_samples_leaf=1, min_samples_split=2,\n",
      "           min_weight_fraction_leaf=0.0, n_estimators=10, n_jobs=1,\n",
      "           oob_score=False, random_state=None, verbose=0, warm_start=False)\n",
      "                    Feature  Included  Ranking\n",
      "0               radius_mean      True        1\n",
      "1              texture_mean      True        1\n",
      "2            perimeter_mean      True        1\n",
      "3                 area_mean      True        1\n",
      "4           smoothness_mean     False        4\n",
      "5          compactness_mean     False       16\n",
      "6            concavity_mean      True        1\n",
      "7       concave points_mean      True        1\n",
      "8             symmetry_mean     False       11\n",
      "9    fractal_dimension_mean     False        8\n",
      "10                radius_se     False        5\n",
      "11               texture_se     False       10\n",
      "12             perimeter_se     False        7\n",
      "13                  area_se      True        1\n",
      "14            smoothness_se     False       13\n",
      "15           compactness_se     False       15\n",
      "16             concavity_se     False       12\n",
      "17        concave points_se     False        6\n",
      "18              symmetry_se     False        9\n",
      "19     fractal_dimension_se     False       14\n",
      "20             radius_worst      True        1\n",
      "21            texture_worst      True        1\n",
      "22          perimeter_worst      True        1\n",
      "23               area_worst      True        1\n",
      "24         smoothness_worst      True        1\n",
      "25        compactness_worst     False        2\n",
      "26          concavity_worst      True        1\n",
      "27     concave points_worst      True        1\n",
      "28           symmetry_worst     False        3\n",
      "29  fractal_dimension_worst      True        1\n",
      "Accuracy = 97.07602339181287%\n",
      "Accuracy of ExtraTreesClassifierclassifier on test set: 0.97\n",
      "[[107   1]\n",
      " [  4  59]]\n",
      "10-fold cross validation average accuracy: 0.955\n",
      "[]\n"
     ]
    },
    {
     "data": {
      "image/png": "[encoded data removed]",
      "text/plain": [
       "<Figure size 432x288 with 1 Axes>"
      ]
     },
     "metadata": {},
     "output_type": "display_data"
    },
    {
     "data": {
      "text/plain": [
       "<Figure size 6400x4800 with 0 Axes>"
      ]
     },
     "metadata": {},
     "output_type": "display_data"
    }
   ],
   "source": [
    "from sklearn.ensemble import ExtraTreesClassifier, GradientBoostingClassifier, AdaBoostClassifier\n",
    "# Extra Trees Classifier\n",
    "X_train, X_test, y_train, y_test = get_train_test_data(ExtraTreesClassifier())\n",
    "etc = ExtraTreesClassifier()\n",
    "etc.fit(X_train, y_train)\n",
    "\n",
    "print_accuracy(etc.predict)\n",
    "\n",
    "gen_confusion(etc, X_test)\n",
    "gen_kfold(ExtraTreesClassifier(), X_train, y_train)\n",
    "plot_coef_feature(etc.feature_importances_)"
   ]
  },
  {
   "cell_type": "code",
   "execution_count": 69,
   "metadata": {},
   "outputs": [
    {
     "name": "stderr",
     "output_type": "stream",
     "text": [
      "/Users/BekkBlando/Documents/github/wisconsin_data/.direnv/python-3.6.5/lib/python3.6/site-packages/sklearn/utils/validation.py:578: DataConversionWarning: A column-vector y was passed when a 1d array was expected. Please change the shape of y to (n_samples, ), for example using ravel().\n",
      "  y = column_or_1d(y, warn=True)\n"
     ]
    },
    {
     "name": "stdout",
     "output_type": "stream",
     "text": [
      "[('radius_mean', 10, False), ('texture_mean', 1, True), ('perimeter_mean', 3, False), ('area_mean', 1, True), ('smoothness_mean', 14, False), ('compactness_mean', 1, True), ('concavity_mean', 7, False), ('concave points_mean', 1, True), ('symmetry_mean', 9, False), ('fractal_dimension_mean', 15, False), ('radius_se', 2, False), ('texture_se', 13, False), ('perimeter_se', 8, False), ('area_se', 1, True), ('smoothness_se', 1, True), ('compactness_se', 6, False), ('concavity_se', 4, False), ('concave points_se', 12, False), ('symmetry_se', 16, False), ('fractal_dimension_se', 1, True), ('radius_worst', 1, True), ('texture_worst', 1, True), ('perimeter_worst', 1, True), ('area_worst', 1, True), ('smoothness_worst', 1, True), ('compactness_worst', 1, True), ('concavity_worst', 1, True), ('concave points_worst', 1, True), ('symmetry_worst', 5, False), ('fractal_dimension_worst', 11, False)]\n",
      "GradientBoostingClassifier(criterion='friedman_mse', init=None,\n",
      "              learning_rate=0.1, loss='deviance', max_depth=3,\n",
      "              max_features=None, max_leaf_nodes=None,\n",
      "              min_impurity_decrease=0.0, min_impurity_split=None,\n",
      "              min_samples_leaf=1, min_samples_split=2,\n",
      "              min_weight_fraction_leaf=0.0, n_estimators=100,\n",
      "              presort='auto', random_state=None, subsample=1.0, verbose=0,\n",
      "              warm_start=False)\n",
      "                    Feature  Included  Ranking\n",
      "0               radius_mean     False       10\n",
      "1              texture_mean      True        1\n",
      "2            perimeter_mean     False        3\n",
      "3                 area_mean      True        1\n",
      "4           smoothness_mean     False       14\n",
      "5          compactness_mean      True        1\n",
      "6            concavity_mean     False        7\n",
      "7       concave points_mean      True        1\n",
      "8             symmetry_mean     False        9\n",
      "9    fractal_dimension_mean     False       15\n",
      "10                radius_se     False        2\n",
      "11               texture_se     False       13\n",
      "12             perimeter_se     False        8\n",
      "13                  area_se      True        1\n",
      "14            smoothness_se      True        1\n",
      "15           compactness_se     False        6\n",
      "16             concavity_se     False        4\n",
      "17        concave points_se     False       12\n",
      "18              symmetry_se     False       16\n",
      "19     fractal_dimension_se      True        1\n",
      "20             radius_worst      True        1\n",
      "21            texture_worst      True        1\n",
      "22          perimeter_worst      True        1\n",
      "23               area_worst      True        1\n",
      "24         smoothness_worst      True        1\n",
      "25        compactness_worst      True        1\n",
      "26          concavity_worst      True        1\n",
      "27     concave points_worst      True        1\n",
      "28           symmetry_worst     False        5\n",
      "29  fractal_dimension_worst     False       11\n",
      "Accuracy = 98.24561403508773%\n",
      "Accuracy of GradientBoostingClassifierclassifier on test set: 0.98\n",
      "[[106   2]\n",
      " [  1  62]]\n",
      "10-fold cross validation average accuracy: 0.955\n",
      "[]\n"
     ]
    },
    {
     "data": {
      "image/png": "[encoded data removed]",
      "text/plain": [
       "<Figure size 432x288 with 1 Axes>"
      ]
     },
     "metadata": {},
     "output_type": "display_data"
    },
    {
     "data": {
      "text/plain": [
       "<Figure size 6400x4800 with 0 Axes>"
      ]
     },
     "metadata": {},
     "output_type": "display_data"
    }
   ],
   "source": [
    "# Gradient Boosting Classifier\n",
    "X_train, X_test, y_train, y_test = get_train_test_data(GradientBoostingClassifier())\n",
    "gbc = GradientBoostingClassifier()\n",
    "gbc.fit(X_train, y_train)\n",
    "\n",
    "print_accuracy(gbc.predict)\n",
    "\n",
    "gen_confusion(gbc, X_test)\n",
    "gen_kfold(GradientBoostingClassifier(), X_train, y_train)\n",
    "plot_coef_feature(gbc.feature_importances_)"
   ]
  },
  {
   "cell_type": "code",
   "execution_count": 70,
   "metadata": {},
   "outputs": [
    {
     "name": "stdout",
     "output_type": "stream",
     "text": [
      "Accuracy = 93.5672514619883%\n",
      "Accuracy of QuadraticDiscriminantAnalysisclassifier on test set: 0.94\n",
      "[[102   6]\n",
      " [  5  58]]\n",
      "10-fold cross validation average accuracy: 0.952\n"
     ]
    }
   ],
   "source": [
    "from sklearn.discriminant_analysis import QuadraticDiscriminantAnalysis\n",
    "# Quadrati Discriminant Analysis\n",
    "qda = QuadraticDiscriminantAnalysis()\n",
    "qda.fit(X_train, y_train)\n",
    "\n",
    "print_accuracy(qda.predict)\n",
    "\n",
    "gen_confusion(qda, X_test)\n",
    "gen_kfold(QuadraticDiscriminantAnalysis(), X_train, y_train)"
   ]
  },
  {
   "cell_type": "code",
   "execution_count": 71,
   "metadata": {},
   "outputs": [
    {
     "name": "stdout",
     "output_type": "stream",
     "text": [
      "[('radius_mean', 1, True), ('texture_mean', 1, True), ('perimeter_mean', 3, False), ('area_mean', 16, False), ('smoothness_mean', 4, False), ('compactness_mean', 8, False), ('concavity_mean', 1, True), ('concave points_mean', 1, True), ('symmetry_mean', 1, True), ('fractal_dimension_mean', 13, False), ('radius_se', 1, True), ('texture_se', 1, True), ('perimeter_se', 1, True), ('area_se', 1, True), ('smoothness_se', 14, False), ('compactness_se', 12, False), ('concavity_se', 5, False), ('concave points_se', 10, False), ('symmetry_se', 9, False), ('fractal_dimension_se', 15, False), ('radius_worst', 1, True), ('texture_worst', 1, True), ('perimeter_worst', 1, True), ('area_worst', 11, False), ('smoothness_worst', 6, False), ('compactness_worst', 1, True), ('concavity_worst', 1, True), ('concave points_worst', 1, True), ('symmetry_worst', 7, False), ('fractal_dimension_worst', 2, False)]\n",
      "LogisticRegression(C=1.0, class_weight=None, dual=False, fit_intercept=True,\n",
      "          intercept_scaling=1, max_iter=100, multi_class='ovr', n_jobs=1,\n",
      "          penalty='l2', random_state=None, solver='liblinear', tol=0.0001,\n",
      "          verbose=0, warm_start=False)\n",
      "                    Feature  Included  Ranking\n",
      "0               radius_mean      True        1\n",
      "1              texture_mean      True        1\n",
      "2            perimeter_mean     False        3\n",
      "3                 area_mean     False       16\n",
      "4           smoothness_mean     False        4\n",
      "5          compactness_mean     False        8\n",
      "6            concavity_mean      True        1\n",
      "7       concave points_mean      True        1\n",
      "8             symmetry_mean      True        1\n",
      "9    fractal_dimension_mean     False       13\n",
      "10                radius_se      True        1\n",
      "11               texture_se      True        1\n",
      "12             perimeter_se      True        1\n",
      "13                  area_se      True        1\n",
      "14            smoothness_se     False       14\n",
      "15           compactness_se     False       12\n",
      "16             concavity_se     False        5\n",
      "17        concave points_se     False       10\n",
      "18              symmetry_se     False        9\n",
      "19     fractal_dimension_se     False       15\n",
      "20             radius_worst      True        1\n",
      "21            texture_worst      True        1\n",
      "22          perimeter_worst      True        1\n",
      "23               area_worst     False       11\n",
      "24         smoothness_worst     False        6\n",
      "25        compactness_worst      True        1\n",
      "26          concavity_worst      True        1\n",
      "27     concave points_worst      True        1\n",
      "28           symmetry_worst     False        7\n",
      "29  fractal_dimension_worst     False        2\n"
     ]
    },
    {
     "name": "stderr",
     "output_type": "stream",
     "text": [
      "/Users/BekkBlando/Documents/github/wisconsin_data/.direnv/python-3.6.5/lib/python3.6/site-packages/sklearn/utils/validation.py:578: DataConversionWarning: A column-vector y was passed when a 1d array was expected. Please change the shape of y to (n_samples, ), for example using ravel().\n",
      "  y = column_or_1d(y, warn=True)\n"
     ]
    }
   ],
   "source": [
    "# Get Logistic Regression Feature Selection for the Polynomail kernal\n",
    "X_train, X_test, y_train, y_test = get_train_test_data(linear_model.LogisticRegression())"
   ]
  },
  {
   "cell_type": "code",
   "execution_count": 72,
   "metadata": {},
   "outputs": [
    {
     "name": "stdout",
     "output_type": "stream",
     "text": [
      "Accuracy = 94.15204678362574%\n",
      "Accuracy of AdaBoostClassifierclassifier on test set: 0.94\n",
      "[[101   7]\n",
      " [  3  60]]\n",
      "10-fold cross validation average accuracy: 0.955\n",
      "[]\n"
     ]
    },
    {
     "data": {
      "image/png": "[encoded data removed]",
      "text/plain": [
       "<Figure size 432x288 with 1 Axes>"
      ]
     },
     "metadata": {},
     "output_type": "display_data"
    },
    {
     "data": {
      "text/plain": [
       "<Figure size 6400x4800 with 0 Axes>"
      ]
     },
     "metadata": {},
     "output_type": "display_data"
    }
   ],
   "source": [
    "# Ada Classifier\n",
    "# X_train, X_test, y_train, y_test = get_train_test_data(AdaBoostClassifier())\n",
    "ada = AdaBoostClassifier()\n",
    "ada.fit(X_train, y_train)\n",
    "\n",
    "print_accuracy(ada.predict)\n",
    "\n",
    "gen_confusion(ada, X_test)\n",
    "gen_kfold(AdaBoostClassifier(), X_train, y_train)\n",
    "plot_coef_feature(ada.feature_importances_)"
   ]
  },
  {
   "cell_type": "code",
   "execution_count": 73,
   "metadata": {},
   "outputs": [],
   "source": [
    "labels = [pair[0] for pair in accuracy]\n",
    "acc = [pair[1] for pair in accuracy]\n",
    "y_pos = np.arange(len(acc))"
   ]
  },
  {
   "cell_type": "code",
   "execution_count": 74,
   "metadata": {},
   "outputs": [
    {
     "data": {
      "text/plain": [
       "<Figure size 6400x4800 with 0 Axes>"
      ]
     },
     "execution_count": 74,
     "metadata": {},
     "output_type": "execute_result"
    },
    {
     "data": {
      "image/png": "[encoded data removed]",
      "text/plain": [
       "<Figure size 432x288 with 1 Axes>"
      ]
     },
     "metadata": {},
     "output_type": "display_data"
    },
    {
     "data": {
      "text/plain": [
       "<Figure size 6400x4800 with 0 Axes>"
      ]
     },
     "metadata": {},
     "output_type": "display_data"
    }
   ],
   "source": [
    "plt.bar(y_pos, acc, align='center', alpha=0.5)\n",
    "plt.xticks(y_pos, labels, rotation='vertical')\n",
    "plt.ylabel('Accuracy From K-Folds')\n",
    "plt.title('Model Used')\n",
    "\n",
    "plt.figure(num=None, figsize=(80, 60), dpi=80, facecolor='w', edgecolor='k')"
   ]
  },
  {
   "cell_type": "code",
   "execution_count": 75,
   "metadata": {},
   "outputs": [
    {
     "data": {
      "text/html": [
       "[0.9521153846153846, 0.9247435897435897, 0.9173076923076924, 0.625448717948718, 0.9649358974358975, 0.9623717948717948, 0.9221153846153847, 0.9247435897435897, 0.9473076923076924, 0.7769871794871794, 0.7840384615384616, 0.6581410256410256, 0.8869230769230769, 0.8996153846153847, 0.9473076923076922, 0.9549358974358974, 0.9548076923076924, 0.9523717948717948, 0.9548717948717949]"
      ],
      "text/plain": [
       "[0.9521153846153846,\n",
       " 0.9247435897435897,\n",
       " 0.9173076923076924,\n",
       " 0.625448717948718,\n",
       " 0.9649358974358975,\n",
       " 0.9623717948717948,\n",
       " 0.9221153846153847,\n",
       " 0.9247435897435897,\n",
       " 0.9473076923076924,\n",
       " 0.7769871794871794,\n",
       " 0.7840384615384616,\n",
       " 0.6581410256410256,\n",
       " 0.8869230769230769,\n",
       " 0.8996153846153847,\n",
       " 0.9473076923076922,\n",
       " 0.9549358974358974,\n",
       " 0.9548076923076924,\n",
       " 0.9523717948717948,\n",
       " 0.9548717948717949]"
      ]
     },
     "execution_count": 75,
     "metadata": {},
     "output_type": "execute_result"
    }
   ],
   "source": [
    "acc"
   ]
  },
  {
   "cell_type": "code",
   "execution_count": 76,
   "metadata": {},
   "outputs": [
    {
     "data": {
      "text/html": [
       "<div>\n",
       "<style scoped>\n",
       "    .dataframe tbody tr th:only-of-type {\n",
       "        vertical-align: middle;\n",
       "    }\n",
       "\n",
       "    .dataframe tbody tr th {\n",
       "        vertical-align: top;\n",
       "    }\n",
       "\n",
       "    .dataframe thead th {\n",
       "        text-align: right;\n",
       "    }\n",
       "</style>\n",
       "<table border=\"1\" class=\"dataframe\">\n",
       "  <thead>\n",
       "    <tr style=\"text-align: right;\">\n",
       "      <th></th>\n",
       "      <th>Accuracy</th>\n",
       "      <th>Model</th>\n",
       "    </tr>\n",
       "  </thead>\n",
       "  <tbody>\n",
       "    <tr>\n",
       "      <th>0</th>\n",
       "      <td>0.952115</td>\n",
       "      <td>LogisticRegression</td>\n",
       "    </tr>\n",
       "    <tr>\n",
       "      <th>1</th>\n",
       "      <td>0.924744</td>\n",
       "      <td>KNeighborsClassifier</td>\n",
       "    </tr>\n",
       "    <tr>\n",
       "      <th>2</th>\n",
       "      <td>0.917308</td>\n",
       "      <td>SVCRadial Kernal</td>\n",
       "    </tr>\n",
       "    <tr>\n",
       "      <th>3</th>\n",
       "      <td>0.625449</td>\n",
       "      <td>SVCSigmoid Kernal</td>\n",
       "    </tr>\n",
       "    <tr>\n",
       "      <th>4</th>\n",
       "      <td>0.964936</td>\n",
       "      <td>SVCLinear Kernal</td>\n",
       "    </tr>\n",
       "    <tr>\n",
       "      <th>5</th>\n",
       "      <td>0.962372</td>\n",
       "      <td>RandomForestClassifier</td>\n",
       "    </tr>\n",
       "    <tr>\n",
       "      <th>6</th>\n",
       "      <td>0.922115</td>\n",
       "      <td>DecisionTreeClassifier</td>\n",
       "    </tr>\n",
       "    <tr>\n",
       "      <th>7</th>\n",
       "      <td>0.924744</td>\n",
       "      <td>MLPClassifier</td>\n",
       "    </tr>\n",
       "    <tr>\n",
       "      <th>8</th>\n",
       "      <td>0.947308</td>\n",
       "      <td>GaussianNB</td>\n",
       "    </tr>\n",
       "    <tr>\n",
       "      <th>9</th>\n",
       "      <td>0.776987</td>\n",
       "      <td>SGDClassifier</td>\n",
       "    </tr>\n",
       "    <tr>\n",
       "      <th>10</th>\n",
       "      <td>0.784038</td>\n",
       "      <td>SGDClassifier</td>\n",
       "    </tr>\n",
       "    <tr>\n",
       "      <th>11</th>\n",
       "      <td>0.658141</td>\n",
       "      <td>RadiusNeighborsClassifier</td>\n",
       "    </tr>\n",
       "    <tr>\n",
       "      <th>12</th>\n",
       "      <td>0.886923</td>\n",
       "      <td>NearestCentroid</td>\n",
       "    </tr>\n",
       "    <tr>\n",
       "      <th>13</th>\n",
       "      <td>0.899615</td>\n",
       "      <td>GaussianProcessClassifier</td>\n",
       "    </tr>\n",
       "    <tr>\n",
       "      <th>14</th>\n",
       "      <td>0.947308</td>\n",
       "      <td>LinearDiscriminantAnalysis</td>\n",
       "    </tr>\n",
       "    <tr>\n",
       "      <th>15</th>\n",
       "      <td>0.954936</td>\n",
       "      <td>ExtraTreesClassifier</td>\n",
       "    </tr>\n",
       "    <tr>\n",
       "      <th>16</th>\n",
       "      <td>0.954808</td>\n",
       "      <td>GradientBoostingClassifier</td>\n",
       "    </tr>\n",
       "    <tr>\n",
       "      <th>17</th>\n",
       "      <td>0.952372</td>\n",
       "      <td>QuadraticDiscriminantAnalysis</td>\n",
       "    </tr>\n",
       "    <tr>\n",
       "      <th>18</th>\n",
       "      <td>0.954872</td>\n",
       "      <td>AdaBoostClassifier</td>\n",
       "    </tr>\n",
       "  </tbody>\n",
       "</table>\n",
       "</div>"
      ],
      "text/plain": [
       "    Accuracy                          Model\n",
       "0   0.952115             LogisticRegression\n",
       "1   0.924744           KNeighborsClassifier\n",
       "2   0.917308               SVCRadial Kernal\n",
       "3   0.625449              SVCSigmoid Kernal\n",
       "4   0.964936               SVCLinear Kernal\n",
       "5   0.962372         RandomForestClassifier\n",
       "6   0.922115         DecisionTreeClassifier\n",
       "7   0.924744                  MLPClassifier\n",
       "8   0.947308                     GaussianNB\n",
       "9   0.776987                  SGDClassifier\n",
       "10  0.784038                  SGDClassifier\n",
       "11  0.658141      RadiusNeighborsClassifier\n",
       "12  0.886923                NearestCentroid\n",
       "13  0.899615      GaussianProcessClassifier\n",
       "14  0.947308     LinearDiscriminantAnalysis\n",
       "15  0.954936           ExtraTreesClassifier\n",
       "16  0.954808     GradientBoostingClassifier\n",
       "17  0.952372  QuadraticDiscriminantAnalysis\n",
       "18  0.954872             AdaBoostClassifier"
      ]
     },
     "execution_count": 76,
     "metadata": {},
     "output_type": "execute_result"
    }
   ],
   "source": [
    "pd.DataFrame({\n",
    "    'Accuracy': acc,\n",
    "    'Model': labels\n",
    "})"
   ]
  },
  {
   "cell_type": "code",
   "execution_count": null,
   "metadata": {},
   "outputs": [],
   "source": []
  },
  {
   "cell_type": "code",
   "execution_count": null,
   "metadata": {},
   "outputs": [],
   "source": []
  }
 ],
 "metadata": {
  "kernelspec": {
   "display_name": "Python 3",
   "language": "python",
   "name": "python3"
  },
  "language_info": {
   "codemirror_mode": {
    "name": "ipython",
    "version": 3
   },
   "file_extension": ".py",
   "mimetype": "text/x-python",
   "name": "python",
   "nbconvert_exporter": "python",
   "pygments_lexer": "ipython3",
   "version": "3.6.5"
  }
 },
 "nbformat": 4,
 "nbformat_minor": 2
}
